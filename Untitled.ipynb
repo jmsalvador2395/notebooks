{
 "cells": [
  {
   "cell_type": "markdown",
   "id": "a0e589cc",
   "metadata": {},
   "source": [
    "# Calculate MSD: $MSD \\equiv \\frac{1}{N}\\sum\\limits_{i=1}^{N} |x^{(i)}(t)-x^{(i)}(0)|^2$"
   ]
  },
  {
   "cell_type": "markdown",
   "id": "a1034734",
   "metadata": {},
   "source": [
    "## initialize data"
   ]
  },
  {
   "cell_type": "code",
   "execution_count": 2,
   "id": "24cf444e",
   "metadata": {},
   "outputs": [],
   "source": [
    "import numpy as np\n",
    "import torch"
   ]
  },
  {
   "cell_type": "code",
   "execution_count": 4,
   "id": "33aceef3",
   "metadata": {},
   "outputs": [
    {
     "name": "stdout",
     "output_type": "stream",
     "text": [
      "tensor([[ 0.5422, -0.8096,  1.2871],\n",
      "        [-0.7427,  0.9787, -0.1259]]) tensor([ 0.3797,  0.8176, -0.0628])\n"
     ]
    }
   ],
   "source": [
    "k=torch.randn(2,3)\n",
    "q=torch.randn(3)\n",
    "print(a, q)"
   ]
  },
  {
   "cell_type": "code",
   "execution_count": 11,
   "id": "233defbc",
   "metadata": {},
   "outputs": [
    {
     "name": "stdout",
     "output_type": "stream",
     "text": [
      "tensor(-1.3595)\n",
      "tensor(-0.5260)\n"
     ]
    }
   ],
   "source": [
    "i=0\n",
    "softmax=torch.exp(a[i]@q)/torch.sum(torch.exp(a@q))\n",
    "log_softmax=torch.log(softmax)\n",
    "guess=-a[1]@q\n",
    "print(log_softmax)\n",
    "print(guess)"
   ]
  },
  {
   "cell_type": "code",
   "execution_count": null,
   "id": "2b823767",
   "metadata": {},
   "outputs": [],
   "source": [
    "b=torch.randn(3)\n",
    "c=b/"
   ]
  },
  {
   "cell_type": "code",
   "execution_count": null,
   "id": "96858adc",
   "metadata": {},
   "outputs": [],
   "source": []
  }
 ],
 "metadata": {
  "kernelspec": {
   "display_name": "Python 3 (ipykernel)",
   "language": "python",
   "name": "python3"
  },
  "language_info": {
   "codemirror_mode": {
    "name": "ipython",
    "version": 3
   },
   "file_extension": ".py",
   "mimetype": "text/x-python",
   "name": "python",
   "nbconvert_exporter": "python",
   "pygments_lexer": "ipython3",
   "version": "3.10.4"
  }
 },
 "nbformat": 4,
 "nbformat_minor": 5
}
