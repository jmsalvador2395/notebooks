{
 "cells": [
  {
   "cell_type": "markdown",
   "id": "86ca8eb0-ab15-4bbb-a92b-d7581e858ce7",
   "metadata": {},
   "source": [
    "# Imports"
   ]
  },
  {
   "cell_type": "code",
   "execution_count": 107,
   "id": "a08c4bb6-418a-4c9a-82e2-69cdf7efe935",
   "metadata": {},
   "outputs": [
    {
     "name": "stdout",
     "output_type": "stream",
     "text": [
      "The autoreload extension is already loaded. To reload it, use:\n",
      "  %reload_ext autoreload\n"
     ]
    }
   ],
   "source": [
    "import datasets\n",
    "import torch\n",
    "import numpy as np\n",
    "from matplotlib import pyplot as plt\n",
    "\n",
    "%load_ext autoreload\n",
    "%autoreload 2\n",
    "%matplotlib inline"
   ]
  },
  {
   "cell_type": "markdown",
   "id": "8610e22e-6a63-470d-abde-5df43288542b",
   "metadata": {},
   "source": [
    "# Load CIFAR-100"
   ]
  },
  {
   "cell_type": "code",
   "execution_count": 79,
   "id": "858bd65c-f24d-47c1-9e86-9f73d6780b7a",
   "metadata": {},
   "outputs": [
    {
     "name": "stdout",
     "output_type": "stream",
     "text": [
      "DatasetDict({\n",
      "    train: Dataset({\n",
      "        features: ['img', 'fine_label', 'coarse_label'],\n",
      "        num_rows: 50000\n",
      "    })\n",
      "    test: Dataset({\n",
      "        features: ['img', 'fine_label', 'coarse_label'],\n",
      "        num_rows: 10000\n",
      "    })\n",
      "})\n"
     ]
    }
   ],
   "source": [
    "ds = datasets.load_dataset('cifar100',\n",
    "                           cache_dir='./cache',\n",
    "                           trust_remote_code=True).with_format('pt')\n",
    "\n",
    "print(ds)"
   ]
  },
  {
   "cell_type": "markdown",
   "id": "2c06b44d-dd99-48b7-a151-45e0d4897361",
   "metadata": {},
   "source": [
    "# Get Image Size and Set Patch Shape"
   ]
  },
  {
   "cell_type": "code",
   "execution_count": 83,
   "id": "7b70c6ce-3d1c-4129-8602-2ce2e17519a9",
   "metadata": {},
   "outputs": [
    {
     "name": "stdout",
     "output_type": "stream",
     "text": [
      "Image shape: torch.Size([32, 32, 3])\n",
      "Patch shape: [4, 4, 3]\n",
      "# Patches: 64\n"
     ]
    }
   ],
   "source": [
    "img = ds['train'][0]['img']\n",
    "\n",
    "W, H, C = img.shape\n",
    "Wp, Hp, Cp = 4, 4, C\n",
    "\n",
    "img_shape = list(img.shape)\n",
    "patch_shape = [Wp, Hp, Cp]\n",
    "num_patches = int(np.prod(img_shape)/np.prod(patch_shape))\n",
    "\n",
    "print(f'Image shape: {img.shape}')\n",
    "print(f'Patch shape: {patch_shape}')\n",
    "print(f'# Patches: {num_patches}')"
   ]
  },
  {
   "cell_type": "markdown",
   "id": "432d5188-0870-4159-93c6-2a950ea411a7",
   "metadata": {},
   "source": [
    "# Test How to Patchify Efficiently"
   ]
  },
  {
   "cell_type": "code",
   "execution_count": 86,
   "id": "e3c5fce9-0ce0-4dbf-804b-7948f99dfca8",
   "metadata": {},
   "outputs": [
    {
     "name": "stdout",
     "output_type": "stream",
     "text": [
      "torch.Size([48])\n",
      "torch.Size([8, 8, 3, 4, 4])\n",
      "torch.Size([48])\n",
      "tensor([True, True, True, True, True, True, True, True, True, True, True, True,\n",
      "        True, True, True, True, True, True, True, True, True, True, True, True,\n",
      "        True, True, True, True, True, True, True, True, True, True, True, True,\n",
      "        True, True, True, True, True, True, True, True, True, True, True, True])\n"
     ]
    }
   ],
   "source": [
    "true_patch = img[:Wp, :Hp, :Cp].flatten()\n",
    "print(true_patch.shape)\n",
    "#test_patch = torch.ones(true_patch.shape)\n",
    "test_patch = img.unfold(0, Wp, Wp).unfold(1, Hp, Hp)\n",
    "print(test_patch.shape)\n",
    "test_patch = test_patch.permute(0, 1, 3, 4, 2).reshape((num_patches, -1))[0]\n",
    "print(test_patch.shape)\n",
    "\n",
    "print(true_patch == test_patch)"
   ]
  },
  {
   "cell_type": "markdown",
   "id": "ab70c312-fa2b-4dc3-b70b-44cbfd7701e3",
   "metadata": {},
   "source": [
    "# Display Image"
   ]
  },
  {
   "cell_type": "code",
   "execution_count": 87,
   "id": "6c77b47c-af3a-462e-b701-ee89d0d82364",
   "metadata": {
    "scrolled": true
   },
   "outputs": [
    {
     "data": {
      "image/png": "[encoded data removed]",
      "text/plain": [
       "<Figure size 640x480 with 1 Axes>"
      ]
     },
     "metadata": {},
     "output_type": "display_data"
    }
   ],
   "source": [
    "fig, ax = plt.subplots()\n",
    "ax.imshow(img)\n",
    "ax.axis('off')\n",
    "plt.show()"
   ]
  },
  {
   "cell_type": "markdown",
   "id": "7dcfbfa2-be46-4709-a943-555208bf1fa0",
   "metadata": {},
   "source": [
    "# Patchify and Display a Single Image"
   ]
  },
  {
   "cell_type": "code",
   "execution_count": 90,
   "id": "b437fc07-346a-4493-831b-4b366aa11ab4",
   "metadata": {},
   "outputs": [
    {
     "data": {
      "image/png": "[encoded data removed]",
      "text/plain": [
       "<Figure size 640x480 with 64 Axes>"
      ]
     },
     "metadata": {},
     "output_type": "display_data"
    }
   ],
   "source": [
    "patches = img.unfold(0, Wp, Wp).unfold(1, Hp, Hp).permute(0, 1, 3, 4, 2).reshape((num_patches, -1))\n",
    "\n",
    "x, y, _ = np.array(img_shape)/np.array(patch_shape)\n",
    "x, y = int(x), int(y)\n",
    "\n",
    "fig, ax = plt.subplots(nrows=y, ncols=x)\n",
    "for i in range(y):\n",
    "    for j in range(x):\n",
    "        ax[i, j].imshow(patches[i*y+j].reshape(Wp, Hp, Cp))\n",
    "        ax[i, j].axis('off')\n",
    "plt.show()\n",
    "        "
   ]
  },
  {
   "cell_type": "markdown",
   "id": "5c75acaa-eec1-464d-b9fc-6a1f592d3b50",
   "metadata": {},
   "source": [
    "# Display Batch of 2"
   ]
  },
  {
   "cell_type": "code",
   "execution_count": 92,
   "id": "4f91a785-733d-429b-8698-408439862776",
   "metadata": {},
   "outputs": [
    {
     "data": {
      "image/png": "[encoded data removed]",
      "text/plain": [
       "<Figure size 640x480 with 2 Axes>"
      ]
     },
     "metadata": {},
     "output_type": "display_data"
    }
   ],
   "source": [
    "fig, ax = plt.subplots(1, 2)\n",
    "images = ds['train'][:2]['img']\n",
    "ax[0].imshow(images[0])\n",
    "ax[1].imshow(images[1])\n",
    "ax[0].axis('off')\n",
    "ax[1].axis('off')\n",
    "plt.show()"
   ]
  },
  {
   "cell_type": "markdown",
   "id": "2dd5f172-4fa1-4c44-810e-2c48e50ea1e5",
   "metadata": {},
   "source": [
    "# Patchify for Batch"
   ]
  },
  {
   "cell_type": "code",
   "execution_count": 110,
   "id": "9dbf58d2-6bde-4d56-b4ad-a4c25ad7e0e0",
   "metadata": {},
   "outputs": [
    {
     "data": {
      "image/png": "[encoded data removed]",
      "text/plain": [
       "<Figure size 640x480 with 128 Axes>"
      ]
     },
     "metadata": {},
     "output_type": "display_data"
    }
   ],
   "source": [
    "images = ds['train'][:2]['img']\n",
    "patches = images.unfold(1, Wp, Wp).unfold(2, Hp, Hp).permute(0, 1, 2, 4, 5, 3).reshape((2, num_patches, -1))\n",
    "\n",
    "x, y, _ = np.array(img_shape)/np.array(patch_shape)\n",
    "x, y = int(x), int(y)\n",
    "\n",
    "fig, ax = plt.subplots(nrows=y*2, ncols=x)\n",
    "image_grid = [[]*x]*(y*2)\n",
    "for i in range(2):\n",
    "    for j in range(y):\n",
    "        for k in range(x):\n",
    "            ax[i*y+j, k].imshow(patches[i, j*y+k].reshape(Wp, Hp, Cp))\n",
    "            ax[i*y+j, k].axis('off')\n",
    "\n",
    "plt.show()\n",
    "        "
   ]
  }
 ],
 "metadata": {
  "kernelspec": {
   "display_name": "Python 3 (ipykernel)",
   "language": "python",
   "name": "python3"
  },
  "language_info": {
   "codemirror_mode": {
    "name": "ipython",
    "version": 3
   },
   "file_extension": ".py",
   "mimetype": "text/x-python",
   "name": "python",
   "nbconvert_exporter": "python",
   "pygments_lexer": "ipython3",
   "version": "3.11.3"
  }
 },
 "nbformat": 4,
 "nbformat_minor": 5
}
