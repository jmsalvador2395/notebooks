{
 "cells": [
  {
   "cell_type": "code",
   "execution_count": 1,
   "id": "0f5d3493",
   "metadata": {},
   "outputs": [],
   "source": [
    "import numpy as np\n",
    "import torch"
   ]
  },
  {
   "cell_type": "markdown",
   "id": "183370a1",
   "metadata": {},
   "source": [
    "# 2. Applications of Smoothing"
   ]
  },
  {
   "cell_type": "markdown",
   "id": "859e3308",
   "metadata": {},
   "source": [
    "## setup"
   ]
  },
  {
   "cell_type": "code",
   "execution_count": 2,
   "id": "d7b094ec",
   "metadata": {},
   "outputs": [],
   "source": [
    "lm={} #dictionary of language models\n",
    "\n",
    "#set document d\n",
    "d='the sun rises in the east and sets in the west'.split()\n",
    "d_size=len(d)\n",
    "\n",
    "#create set of words from d\n",
    "words={w for w in d}\n",
    "\n",
    "#calculate c(w, d)\n",
    "c={}\n",
    "for w in d:\n",
    "    if w in c:\n",
    "        c[w]+=1\n",
    "    else:\n",
    "        c[w]=1\n",
    "\n",
    "#compute probabilities for base language model\n",
    "lm['base']={f'p({w}|d)':c[w]/d_size for w in words}   \n",
    "\n",
    "#create dictionary for p(w) and p_ref(w)\n",
    "p={}\n",
    "p['REF']={\n",
    "    'a':.18,\n",
    "    'the':.17,\n",
    "    'from':.13,\n",
    "    'retrieval':.02,\n",
    "    'sun':.05,\n",
    "    'rises':.04,\n",
    "    'in':.16,\n",
    "    'BM25':.01,\n",
    "    'east':.02,\n",
    "    'sets':.04,\n",
    "    'west':.02,\n",
    "    'and':.16,\n",
    "}\n",
    "\n",
    "#compute probabilities for background language model\n",
    "lm['bg']={f'p({w}|d)':p['REF'][w] for w in words} \n",
    "\n"
   ]
  },
  {
   "cell_type": "markdown",
   "id": "5dab9e8b",
   "metadata": {},
   "source": [
    "## 2a. compute dirichlet prior smoothing model with $\\mu=4$"
   ]
  },
  {
   "cell_type": "code",
   "execution_count": 3,
   "id": "f890d365",
   "metadata": {},
   "outputs": [
    {
     "name": "stdout",
     "output_type": "stream",
     "text": [
      "p(and|d)=0.109\n",
      "p(rises|d)=0.077\n",
      "p(in|d)=0.176\n",
      "p(east|d)=0.072\n",
      "p(sets|d)=0.077\n",
      "p(west|d)=0.072\n",
      "p(the|d)=0.245\n",
      "p(sun|d)=0.080\n"
     ]
    }
   ],
   "source": [
    "mu=4\n",
    "model='dp_4'\n",
    "lm[model]={f'p({w}|d)':(c[w]+mu*p[\"REF\"][w])/(d_size+mu) for w in words}\n",
    "for key in lm[model]:\n",
    "    print(f'{key}={lm[model][key]:.3f}') "
   ]
  },
  {
   "cell_type": "markdown",
   "id": "c4038d7a",
   "metadata": {},
   "source": [
    "## 2b. repeat 2a assuming $\\mu=0.01$ and $\\mu=100$"
   ]
  },
  {
   "cell_type": "code",
   "execution_count": 4,
   "id": "6c1f9379",
   "metadata": {},
   "outputs": [
    {
     "name": "stdout",
     "output_type": "stream",
     "text": [
      "dirichlet prior mu=0.01\n",
      "p(and|d)=0.091\n",
      "p(rises|d)=0.091\n",
      "p(in|d)=0.182\n",
      "p(east|d)=0.091\n",
      "p(sets|d)=0.091\n",
      "p(west|d)=0.091\n",
      "p(the|d)=0.273\n",
      "p(sun|d)=0.091\n",
      "\n",
      "dirichlet prior mu=100\n",
      "p(and|d)=0.153\n",
      "p(rises|d)=0.045\n",
      "p(in|d)=0.162\n",
      "p(east|d)=0.027\n",
      "p(sets|d)=0.045\n",
      "p(west|d)=0.027\n",
      "p(the|d)=0.180\n",
      "p(sun|d)=0.054\n",
      "\n"
     ]
    }
   ],
   "source": [
    "mus=[0.01, 100]\n",
    "models=[f'dp_{mu}' for mu in mus]\n",
    "\n",
    "#calculate model for each mu\n",
    "for mu, model in zip(mus, models):\n",
    "    lm[model]={f'p({w}|d)':(c[w]+mu*p[\"REF\"][w])/(d_size+mu) for w in words}\n",
    "\n",
    "#print out all probabilities for each model\n",
    "for mu, model in zip(mus, models):\n",
    "    print(f'dirichlet prior mu={mu}')\n",
    "    for key in lm[model]:\n",
    "        print(f'{key}={lm[model][key]:.3f}') \n",
    "    print()\n",
    "    \n",
    "    "
   ]
  },
  {
   "cell_type": "markdown",
   "id": "d3654655",
   "metadata": {},
   "source": [
    "## 2c. compute jelinek-mercer model for $\\lambda={0.01,0.5,0.9}$"
   ]
  },
  {
   "cell_type": "code",
   "execution_count": 5,
   "id": "08058f94",
   "metadata": {},
   "outputs": [
    {
     "name": "stdout",
     "output_type": "stream",
     "text": [
      "jelinek-mercer lambda=0.01\n",
      "p(and|d)=0.092\n",
      "p(rises|d)=0.090\n",
      "p(in|d)=0.182\n",
      "p(east|d)=0.090\n",
      "p(sets|d)=0.090\n",
      "p(west|d)=0.090\n",
      "p(the|d)=0.272\n",
      "p(sun|d)=0.090\n",
      "\n",
      "jelinek-mercer lambda=0.5\n",
      "p(and|d)=0.125\n",
      "p(rises|d)=0.065\n",
      "p(in|d)=0.171\n",
      "p(east|d)=0.055\n",
      "p(sets|d)=0.065\n",
      "p(west|d)=0.055\n",
      "p(the|d)=0.221\n",
      "p(sun|d)=0.070\n",
      "\n",
      "jelinek-mercer lambda=0.9\n",
      "p(and|d)=0.153\n",
      "p(rises|d)=0.045\n",
      "p(in|d)=0.162\n",
      "p(east|d)=0.027\n",
      "p(sets|d)=0.045\n",
      "p(west|d)=0.027\n",
      "p(the|d)=0.180\n",
      "p(sun|d)=0.054\n",
      "\n"
     ]
    }
   ],
   "source": [
    "lambdas=[0.01, 0.5, 0.9]\n",
    "models=[f'jm_{lmda}' for lmda in lambdas]\n",
    "\n",
    "#calculate model for each lambda\n",
    "for lmda, model in zip(lambdas, models):\n",
    "    lm[model]={f'p({w}|d)':(1-lmda)*(c[w]/d_size)+lmda*p['REF'][w] for w in words}\n",
    "\n",
    "#print out all probabilities for each model\n",
    "for lmda, model in zip(lambdas, models):\n",
    "    print(f'jelinek-mercer lambda={lmda}')\n",
    "    for key in lm[model]:\n",
    "        print(f'{key}={lm[model][key]:.3f}') \n",
    "    print()\n",
    "    "
   ]
  },
  {
   "cell_type": "markdown",
   "id": "678a5d45",
   "metadata": {},
   "source": [
    "## compare the probabilities of each model"
   ]
  },
  {
   "cell_type": "code",
   "execution_count": 7,
   "id": "756262c1",
   "metadata": {},
   "outputs": [
    {
     "name": "stdout",
     "output_type": "stream",
     "text": [
      "p()\t\tbase\tbg\tdp_4\tdp_0.01\tdp_100\tjm_0.01\tjm_0.5\tjm_0.9\n",
      "****************************************************************************************************\n",
      "p(and|d)  \t0.091\t0.160\t0.109\t0.091\t0.153\t0.092\t0.125\t0.153\t\n",
      "p(rises|d)\t0.091\t0.040\t0.077\t0.091\t0.045\t0.090\t0.065\t0.045\t\n",
      "p(in|d)   \t0.182\t0.160\t0.176\t0.182\t0.162\t0.182\t0.171\t0.162\t\n",
      "p(east|d) \t0.091\t0.020\t0.072\t0.091\t0.027\t0.090\t0.055\t0.027\t\n",
      "p(sets|d) \t0.091\t0.040\t0.077\t0.091\t0.045\t0.090\t0.065\t0.045\t\n",
      "p(west|d) \t0.091\t0.020\t0.072\t0.091\t0.027\t0.090\t0.055\t0.027\t\n",
      "p(the|d)  \t0.273\t0.170\t0.245\t0.273\t0.180\t0.272\t0.221\t0.180\t\n",
      "p(sun|d)  \t0.091\t0.050\t0.080\t0.091\t0.054\t0.090\t0.070\t0.054\t\n",
      "****************************************************************************************************\n"
     ]
    }
   ],
   "source": [
    "#setup variables to be used for printing the table\n",
    "keys=list(lm.keys())\n",
    "prob_names=list(lm[keys[0]].keys())\n",
    "pad_len=max([len(name) for name in prob_names])\n",
    "num_stars=100\n",
    "\n",
    "#print headers\n",
    "headers=f'p()\\t\\t'+'\\t'.join(keys)\n",
    "print(headers)\n",
    "\n",
    "#print table contents\n",
    "print(f'{\"*\"*num_stars}')\n",
    "for i in prob_names:\n",
    "    base=f'{i}{\" \"*(pad_len-len(i))}\\t'\n",
    "    cols=''\n",
    "    for key in keys:\n",
    "        cols+=f'{lm[key][i]:.3f}\\t'        \n",
    "    print(base + cols)\n",
    "print(f'{\"*\"*num_stars}')"
   ]
  }
 ],
 "metadata": {
  "kernelspec": {
   "display_name": "Python 3 (ipykernel)",
   "language": "python",
   "name": "python3"
  },
  "language_info": {
   "codemirror_mode": {
    "name": "ipython",
    "version": 3
   },
   "file_extension": ".py",
   "mimetype": "text/x-python",
   "name": "python",
   "nbconvert_exporter": "python",
   "pygments_lexer": "ipython3",
   "version": "3.10.4"
  }
 },
 "nbformat": 4,
 "nbformat_minor": 5
}
