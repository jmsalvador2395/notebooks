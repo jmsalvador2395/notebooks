{
 "cells": [
  {
   "cell_type": "code",
   "execution_count": 1,
   "id": "38b3187e-16ee-4f44-b184-3615824d7342",
   "metadata": {},
   "outputs": [
    {
     "name": "stderr",
     "output_type": "stream",
     "text": [
      "/data/john/projects/nb/env/lib/python3.11/site-packages/tqdm/auto.py:21: TqdmWarning: IProgress not found. Please update jupyter and ipywidgets. See https://ipywidgets.readthedocs.io/en/stable/user_install.html\n",
      "  from .autonotebook import tqdm as notebook_tqdm\n"
     ]
    }
   ],
   "source": [
    "import torch\n",
    "import numpy as np\n",
    "import datasets\n",
    "import os\n",
    "import umap\n",
    "import evaluate\n",
    "from pathlib import Path\n",
    "from itertools import product\n",
    "from IPython.core.debugger import set_trace\n",
    "from datasets import Dataset, DatasetDict\n",
    "from torch import nn\n",
    "from sentence_transformers import SentenceTransformer\n",
    "from nltk import sent_tokenize\n",
    "from IPython.core.debugger import Pdb\n",
    "from sklearn.decomposition import PCA\n",
    "from sklearn.manifold import TSNE\n",
    "from matplotlib import pyplot as plt\n",
    "from transformers import AutoModel, AutoTokenizer\n",
    "from pprint import pprint\n",
    "\n",
    "datasets.disable_caching()\n",
    "\n",
    "# Set this to whatever you want\n",
    "seed = 10\n",
    "\n",
    "torch.manual_seed(seed)\n",
    "np.random.seed(seed)\n",
    "\n",
    "%load_ext autoreload\n",
    "%autoreload 2\n",
    "%matplotlib inline"
   ]
  },
  {
   "cell_type": "markdown",
   "id": "a780e0bb-5c8b-4ec8-b5b0-5104d0695628",
   "metadata": {},
   "source": [
    "# Load Dataset"
   ]
  },
  {
   "cell_type": "code",
   "execution_count": 2,
   "id": "9fa37cf7-0b71-4aba-8be0-d3d312f2ce3c",
   "metadata": {},
   "outputs": [
    {
     "name": "stdout",
     "output_type": "stream",
     "text": [
      "Dataset({\n",
      "    features: ['S1', 'S2', 'Sy', 'operation', 'output'],\n",
      "    num_rows: 11000\n",
      "})\n"
     ]
    }
   ],
   "source": [
    "ds = Dataset.from_parquet('./data/sofsat_lora.parquet')\n",
    "print(ds)"
   ]
  },
  {
   "cell_type": "markdown",
   "id": "0f0d87a8-7662-444d-be8f-24769ae3f4b1",
   "metadata": {},
   "source": [
    "# Clean Up Output"
   ]
  },
  {
   "cell_type": "code",
   "execution_count": 3,
   "id": "ff699355-dbb9-4038-b7c7-234bfa6a9d0b",
   "metadata": {},
   "outputs": [
    {
     "name": "stderr",
     "output_type": "stream",
     "text": [
      "Map: 100%|█████████████████████████████████████████████████████████████████████████████████████████████████████████████████████████████████████████████████████████| 11000/11000 [00:00<00:00, 21372.62 examples/s]"
     ]
    },
    {
     "name": "stdout",
     "output_type": "stream",
     "text": [
      "Dataset({\n",
      "    features: ['S1', 'S2', 'Sy', 'operation', 'output', 'output_raw'],\n",
      "    num_rows: 11000\n",
      "})\n"
     ]
    },
    {
     "name": "stderr",
     "output_type": "stream",
     "text": [
      "\n"
     ]
    }
   ],
   "source": [
    "def map_fn(sample):\n",
    "    idx = sample['output'].index('</op2>')\n",
    "    clean_output = sample['output'][idx+6:]\n",
    "    sample['output_raw'] = sample['output']\n",
    "    sample['output'] = clean_output\n",
    "    return sample\n",
    "\n",
    "ds = ds.map(map_fn)\n",
    "print(ds)"
   ]
  },
  {
   "cell_type": "markdown",
   "id": "7192b02d-6df0-41ee-a40e-8b105fcb4733",
   "metadata": {},
   "source": [
    "# Compute ROUGE and BERTscore"
   ]
  },
  {
   "cell_type": "code",
   "execution_count": 4,
   "id": "5b13005b-6a03-4609-9974-8c657338d135",
   "metadata": {},
   "outputs": [
    {
     "name": "stdout",
     "output_type": "stream",
     "text": [
      "computing rouge\n",
      "computing bertscore\n"
     ]
    },
    {
     "name": "stderr",
     "output_type": "stream",
     "text": [
      "Some weights of RobertaModel were not initialized from the model checkpoint at roberta-large and are newly initialized: ['roberta.pooler.dense.bias', 'roberta.pooler.dense.weight']\n",
      "You should probably TRAIN this model on a down-stream task to be able to use it for predictions and inference.\n"
     ]
    },
    {
     "name": "stdout",
     "output_type": "stream",
     "text": [
      "calculating scores...\n",
      "computing bert embedding.\n"
     ]
    },
    {
     "name": "stderr",
     "output_type": "stream",
     "text": [
      "100%|████████████████████████████████████████████████████████████████████████████████████████████████████████████████████████████████████████████████████████████████████████████| 220/220 [01:05<00:00,  3.38it/s]\n"
     ]
    },
    {
     "name": "stdout",
     "output_type": "stream",
     "text": [
      "computing greedy matching.\n"
     ]
    },
    {
     "name": "stderr",
     "output_type": "stream",
     "text": [
      "100%|████████████████████████████████████████████████████████████████████████████████████████████████████████████████████████████████████████████████████████████████████████████| 110/110 [00:02<00:00, 54.34it/s]\n"
     ]
    },
    {
     "name": "stdout",
     "output_type": "stream",
     "text": [
      "done in 1401153.21 seconds, 0.01 sentences/sec\n",
      "{'bertscore': 0.40140151977638544,\n",
      " 'rouge': {'rouge1': 0.4769846361350538,\n",
      "           'rouge2': 0.26436766516974775,\n",
      "           'rougeL': 0.35949005296519115,\n",
      "           'rougeLsum': 0.36950015524013735}}\n"
     ]
    }
   ],
   "source": [
    "scores = {}\n",
    "\n",
    "print('computing rouge')\n",
    "scorer = evaluate.load('rouge')\n",
    "scores['rouge'] = scorer.compute(\n",
    "    predictions=ds['output'], \n",
    "    references=ds['Sy']\n",
    ")\n",
    "\n",
    "print('computing bertscore')\n",
    "scorer = evaluate.load(\"bertscore\")\n",
    "bertscore = scorer.compute(\n",
    "    predictions=ds['output'], \n",
    "    references=ds['Sy'],\n",
    "    lang=\"en\",\n",
    "    batch_size=100,\n",
    "    device='cuda:1',\n",
    "    verbose=True,\n",
    "    rescale_with_baseline=True,\n",
    ")\n",
    "scores['bertscore'] = np.mean(bertscore['f1'])\n",
    "\n",
    "pprint(scores)"
   ]
  },
  {
   "cell_type": "markdown",
   "id": "c2b80a60-d53b-46dd-b291-6aebdfee70c8",
   "metadata": {},
   "source": [
    "# Show an Example"
   ]
  },
  {
   "cell_type": "code",
   "execution_count": 45,
   "id": "401bf329-b04d-4679-97be-5fcdaa576717",
   "metadata": {},
   "outputs": [
    {
     "name": "stdout",
     "output_type": "stream",
     "text": [
      "sample: 7561\n",
      "s1: The Style A Hotel offers a $190 suite with a Jacuzzi and sauna, popular with young couples and others.\n",
      "s2: Love hotels are not only for young couples; some, like one anonymous man, go when drunk and don't want to go home.\n",
      "op: intersection\n",
      "Reference: Though young couples make up the majority of customers, they are not the only ones.\n",
      "Prediction: The Style A Hotel offers a suite with a Jacuzzi and sauna for couples looking for a little relaxation....\n"
     ]
    }
   ],
   "source": [
    "idx = np.random.randint(len(ds))\n",
    "\n",
    "sample = ds[idx]\n",
    "print(f'sample: {idx}')\n",
    "print(f's1: {sample[\"S1\"]}')\n",
    "print(f's2: {sample[\"S2\"]}')\n",
    "print(f'op: {sample[\"operation\"]}')\n",
    "print(f'Reference: {sample[\"Sy\"]}')\n",
    "print(f'Prediction: {sample[\"output\"]}')"
   ]
  },
  {
   "cell_type": "code",
   "execution_count": 47,
   "id": "3ebbd61e-eaef-4cba-ac74-a6537eab0acd",
   "metadata": {},
   "outputs": [
    {
     "name": "stdout",
     "output_type": "stream",
     "text": [
      "{'intersection', 'union'}\n"
     ]
    }
   ],
   "source": [
    "print(set(ds['operation']))"
   ]
  }
 ],
 "metadata": {
  "kernelspec": {
   "display_name": "Python 3 (ipykernel)",
   "language": "python",
   "name": "python3"
  },
  "language_info": {
   "codemirror_mode": {
    "name": "ipython",
    "version": 3
   },
   "file_extension": ".py",
   "mimetype": "text/x-python",
   "name": "python",
   "nbconvert_exporter": "python",
   "pygments_lexer": "ipython3",
   "version": "3.11.7"
  }
 },
 "nbformat": 4,
 "nbformat_minor": 5
}
