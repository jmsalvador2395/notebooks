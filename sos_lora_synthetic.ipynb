{
 "cells": [
  {
   "cell_type": "code",
   "execution_count": 1,
   "id": "38b3187e-16ee-4f44-b184-3615824d7342",
   "metadata": {},
   "outputs": [
    {
     "name": "stderr",
     "output_type": "stream",
     "text": [
      "/data/john/projects/nb/env/lib/python3.11/site-packages/tqdm/auto.py:21: TqdmWarning: IProgress not found. Please update jupyter and ipywidgets. See https://ipywidgets.readthedocs.io/en/stable/user_install.html\n",
      "  from .autonotebook import tqdm as notebook_tqdm\n"
     ]
    }
   ],
   "source": [
    "import torch\n",
    "import numpy as np\n",
    "import datasets\n",
    "import os\n",
    "import umap\n",
    "import evaluate\n",
    "from pathlib import Path\n",
    "from itertools import product\n",
    "from IPython.core.debugger import set_trace\n",
    "from datasets import Dataset, DatasetDict\n",
    "from torch import nn\n",
    "from sentence_transformers import SentenceTransformer\n",
    "from nltk import sent_tokenize\n",
    "from IPython.core.debugger import Pdb\n",
    "from sklearn.decomposition import PCA\n",
    "from sklearn.manifold import TSNE\n",
    "from matplotlib import pyplot as plt\n",
    "from transformers import AutoModel, AutoTokenizer\n",
    "from pprint import pprint\n",
    "\n",
    "datasets.disable_caching()\n",
    "\n",
    "# Set this to whatever you want\n",
    "seed = 10\n",
    "\n",
    "torch.manual_seed(seed)\n",
    "np.random.seed(seed)\n",
    "\n",
    "%load_ext autoreload\n",
    "%autoreload 2\n",
    "%matplotlib inline"
   ]
  },
  {
   "cell_type": "markdown",
   "id": "a780e0bb-5c8b-4ec8-b5b0-5104d0695628",
   "metadata": {},
   "source": [
    "# Load Dataset"
   ]
  },
  {
   "cell_type": "code",
   "execution_count": 49,
   "id": "9fa37cf7-0b71-4aba-8be0-d3d312f2ce3c",
   "metadata": {},
   "outputs": [
    {
     "name": "stderr",
     "output_type": "stream",
     "text": [
      "Generating train split: 19203 examples [00:00, 70776.12 examples/s]"
     ]
    },
    {
     "name": "stdout",
     "output_type": "stream",
     "text": [
      "Dataset({\n",
      "    features: ['S1', 'S2', 'Sy', 'operation', 'output_raw'],\n",
      "    num_rows: 19203\n",
      "})\n"
     ]
    },
    {
     "name": "stderr",
     "output_type": "stream",
     "text": [
      "\n"
     ]
    }
   ],
   "source": [
    "ds = Dataset.from_parquet('./data/sofsat_lora.parquet')\n",
    "print(ds)"
   ]
  },
  {
   "cell_type": "markdown",
   "id": "0f0d87a8-7662-444d-be8f-24769ae3f4b1",
   "metadata": {},
   "source": [
    "# Clean Up Output"
   ]
  },
  {
   "cell_type": "code",
   "execution_count": 50,
   "id": "ff699355-dbb9-4038-b7c7-234bfa6a9d0b",
   "metadata": {},
   "outputs": [
    {
     "name": "stderr",
     "output_type": "stream",
     "text": [
      "Map: 100%|█████████████████████████████████████████████████████████████████████████████████████████████████████████████████████████████████████████████████████████| 19203/19203 [00:00<00:00, 24773.18 examples/s]"
     ]
    },
    {
     "name": "stdout",
     "output_type": "stream",
     "text": [
      "Dataset({\n",
      "    features: ['S1', 'S2', 'Sy', 'operation', 'output_raw', 'output'],\n",
      "    num_rows: 19203\n",
      "})\n"
     ]
    },
    {
     "name": "stderr",
     "output_type": "stream",
     "text": [
      "\n"
     ]
    }
   ],
   "source": [
    "def map_fn(sample):\n",
    "    idx = sample['output_raw'].index('</op2>')\n",
    "    clean_output = sample['output_raw'][idx+6:]\n",
    "    sample['output'] = clean_output\n",
    "    return sample\n",
    "\n",
    "ds = ds.map(map_fn)\n",
    "print(ds)"
   ]
  },
  {
   "cell_type": "markdown",
   "id": "7192b02d-6df0-41ee-a40e-8b105fcb4733",
   "metadata": {},
   "source": [
    "# Compute ROUGE and BERTscore"
   ]
  },
  {
   "cell_type": "code",
   "execution_count": 51,
   "id": "5b13005b-6a03-4609-9974-8c657338d135",
   "metadata": {},
   "outputs": [
    {
     "name": "stdout",
     "output_type": "stream",
     "text": [
      "computing rouge\n",
      "computing bertscore\n"
     ]
    },
    {
     "name": "stderr",
     "output_type": "stream",
     "text": [
      "Some weights of RobertaModel were not initialized from the model checkpoint at roberta-large and are newly initialized: ['roberta.pooler.dense.bias', 'roberta.pooler.dense.weight']\n",
      "You should probably TRAIN this model on a down-stream task to be able to use it for predictions and inference.\n"
     ]
    },
    {
     "name": "stdout",
     "output_type": "stream",
     "text": [
      "calculating scores...\n",
      "computing bert embedding.\n"
     ]
    },
    {
     "name": "stderr",
     "output_type": "stream",
     "text": [
      "100%|████████████████████████████████████████████████████████████████████████████████████████████████████████████████████████████████████████████████████████████████████████████| 378/378 [01:41<00:00,  3.72it/s]\n"
     ]
    },
    {
     "name": "stdout",
     "output_type": "stream",
     "text": [
      "computing greedy matching.\n"
     ]
    },
    {
     "name": "stderr",
     "output_type": "stream",
     "text": [
      "100%|████████████████████████████████████████████████████████████████████████████████████████████████████████████████████████████████████████████████████████████████████████████| 193/193 [00:02<00:00, 76.83it/s]\n"
     ]
    },
    {
     "name": "stdout",
     "output_type": "stream",
     "text": [
      "done in 1395699.05 seconds, 0.01 sentences/sec\n",
      "{'bertscore': 0.3724939909395789,\n",
      " 'rouge': {'rouge1': 0.4435674530914756,\n",
      "           'rouge2': 0.23828892999393597,\n",
      "           'rougeL': 0.3383353327730062,\n",
      "           'rougeLsum': 0.34528689903851756}}\n"
     ]
    }
   ],
   "source": [
    "scores = {}\n",
    "\n",
    "print('computing rouge')\n",
    "scorer = evaluate.load('rouge')\n",
    "scores['rouge'] = scorer.compute(\n",
    "    predictions=ds['output'], \n",
    "    references=ds['Sy']\n",
    ")\n",
    "\n",
    "print('computing bertscore')\n",
    "scorer = evaluate.load(\"bertscore\")\n",
    "bertscore = scorer.compute(\n",
    "    predictions=ds['output'], \n",
    "    references=ds['Sy'],\n",
    "    lang=\"en\",\n",
    "    batch_size=100,\n",
    "    device='cuda:1',\n",
    "    verbose=True,\n",
    "    rescale_with_baseline=True,\n",
    ")\n",
    "scores['bertscore'] = np.mean(bertscore['f1'])\n",
    "\n",
    "pprint(scores)"
   ]
  },
  {
   "cell_type": "markdown",
   "id": "c2b80a60-d53b-46dd-b291-6aebdfee70c8",
   "metadata": {},
   "source": [
    "# Show an Example"
   ]
  },
  {
   "cell_type": "code",
   "execution_count": 62,
   "id": "401bf329-b04d-4679-97be-5fcdaa576717",
   "metadata": {},
   "outputs": [
    {
     "name": "stdout",
     "output_type": "stream",
     "text": [
      "sample: 16428\n",
      "\n",
      "**s1**: Last night's SS15 show had star-studded guests, including Rosie Fortescue and Roxie Nafousi. Yasmin Le Bon led the finale.\n",
      "\n",
      "**s2**: Yasmin Le Bon lead the finale at the end of the show .\n",
      "\n",
      "**op**: right_diff\n",
      "\n",
      "**Reference**: Star studded guests: Rosie Fortescue (left) and Roxie Nafousi (right) attended last night's SS15 show .\n",
      "\n",
      "**Prediction**: The show was headlined by star-studded guests including Rosie Fortescue and Roxie Nafousi..</op2>Last night's\n"
     ]
    }
   ],
   "source": [
    "idx = np.random.randint(len(ds))\n",
    "\n",
    "sample = ds[idx]\n",
    "print(f'sample: {idx}', end='\\n\\n')\n",
    "print(f'**s1**: {sample[\"S1\"]}', end='\\n\\n')\n",
    "print(f'**s2**: {sample[\"S2\"]}', end='\\n\\n')\n",
    "print(f'**op**: {sample[\"operation\"]}', end='\\n\\n')\n",
    "print(f'**Reference**: {sample[\"Sy\"]}', end='\\n\\n')\n",
    "print(f'**Prediction**: {sample[\"output\"]}')"
   ]
  },
  {
   "cell_type": "code",
   "execution_count": 59,
   "id": "3ebbd61e-eaef-4cba-ac74-a6537eab0acd",
   "metadata": {},
   "outputs": [
    {
     "name": "stdout",
     "output_type": "stream",
     "text": [
      "{'right_diff', 'intersection', 'union', 'left_diff'}\n"
     ]
    }
   ],
   "source": [
    "print(set(ds['operation']))"
   ]
  },
  {
   "cell_type": "code",
   "execution_count": null,
   "id": "60a7be02-e863-470a-9424-9fb6fdc040a5",
   "metadata": {},
   "outputs": [],
   "source": [
    "print(ds)"
   ]
  }
 ],
 "metadata": {
  "kernelspec": {
   "display_name": "Python 3 (ipykernel)",
   "language": "python",
   "name": "python3"
  },
  "language_info": {
   "codemirror_mode": {
    "name": "ipython",
    "version": 3
   },
   "file_extension": ".py",
   "mimetype": "text/x-python",
   "name": "python",
   "nbconvert_exporter": "python",
   "pygments_lexer": "ipython3",
   "version": "3.11.7"
  }
 },
 "nbformat": 4,
 "nbformat_minor": 5
}
