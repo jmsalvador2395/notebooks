{
 "cells": [
  {
   "cell_type": "code",
   "execution_count": 2,
   "id": "2f32bb2e",
   "metadata": {},
   "outputs": [],
   "source": [
    "import numpy as np\n",
    "from numpy.linalg import det, eig\n",
    "import torch\n",
    "import pdb"
   ]
  },
  {
   "cell_type": "code",
   "execution_count": 25,
   "id": "63f94b1d",
   "metadata": {},
   "outputs": [
    {
     "name": "stdout",
     "output_type": "stream",
     "text": [
      "gradients\n",
      "[-0.07622352  1.12531427]\n",
      "[-0.07622352  1.12531427]\n"
     ]
    }
   ],
   "source": [
    "alpha=.5\n",
    "x0=np.random.randn(2)\n",
    "A=np.identity(2)\n",
    "b=np.ones(2)\n",
    "pk=-(b+.5*(A+A.T)@x0)\n",
    "print('gradients')\n",
    "print(b+.5*(A+A.T)@x0)\n",
    "print(x0+1)"
   ]
  },
  {
   "cell_type": "code",
   "execution_count": 22,
   "id": "e3072533",
   "metadata": {},
   "outputs": [
    {
     "name": "stdout",
     "output_type": "stream",
     "text": [
      "2.3986594070218814\n",
      "2.398659407021881\n"
     ]
    }
   ],
   "source": [
    "print((x0+1)@(x0+1))\n",
    "print(x0@x0+2*(x0@b)+2)"
   ]
  },
  {
   "cell_type": "code",
   "execution_count": 97,
   "id": "a618e0bc",
   "metadata": {},
   "outputs": [
    {
     "name": "stdout",
     "output_type": "stream",
     "text": [
      "2.0\n",
      "2.0\n",
      "\n",
      "-0.9393977723368696\n",
      "-0.9393977723368696\n",
      "-0.9393977723368695\n",
      "\n",
      "gradient guess 1\n",
      "-2.9205672699507716\n",
      "gradient guess 2\n",
      "-2.9205672699507725\n",
      "\n",
      "ans: -0.9393977723368696\n",
      "grad: -2.920567512512207\n"
     ]
    }
   ],
   "source": [
    "torch.manual_seed(0)\n",
    "alpha=1.0\n",
    "x0=np.random.randn(2)\n",
    "A=np.identity(2)\n",
    "b=np.ones(2)\n",
    "pk=-(b+.5*(A+A.T)@x0)\n",
    "\n",
    "\n",
    "x1=x0+alpha*pk\n",
    "\n",
    "n=2\n",
    "A1=np.random.randn(n,n)\n",
    "#check equivalence\n",
    "print(x1@x1)\n",
    "print(x0@x0+2*(x0@(alpha*pk))+(alpha**2*(pk@pk)))\n",
    "print()\n",
    "\n",
    "#base calculation\n",
    "print(x1@A1@x1)\n",
    "\n",
    "#expanded calculation 1\n",
    "ans1=0\n",
    "for i in range(n):\n",
    "    for j in range(n):\n",
    "        ans1+=A1[i, j]*((x0+alpha*pk)[i]*(x0+alpha*pk)[j])\n",
    "        \n",
    "print(ans1)\n",
    "\n",
    "#expanded calculation 2\n",
    "ans2=0\n",
    "for i in range(n):\n",
    "    for j in range(n):\n",
    "        ans2+=A1[i,j]*((x0[i]*x0[j])+(x0[i]*alpha*pk[j])+(x0[j]*alpha*pk[i])+(alpha**2*pk[i]*pk[j]))\n",
    "\n",
    "print(ans2)\n",
    "print()\n",
    "\n",
    "\n",
    "print('gradient guess 1')\n",
    "#gradient guess 1\n",
    "ans2=0\n",
    "for i in range(n):\n",
    "    for j in range(n):\n",
    "        ans2+=A1[i,j]*((x0[i]*pk[j])+(x0[j]*pk[i])+(2*alpha*pk[i]*pk[j]))\n",
    "print(ans2)\n",
    "\n",
    "print('gradient guess 2')\n",
    "#gradient guess 2\n",
    "ans2=(A1.T + A1)@(x1)@pk\n",
    "print(ans2)\n",
    "\n",
    "\n",
    "#calculate true gradient\n",
    "x1_torch=torch.tensor(x0+alpha*pk)\n",
    "x0_torch=torch.tensor(x0)\n",
    "alpha=torch.tensor(alpha, requires_grad=True)\n",
    "n=2\n",
    "A1_torch=torch.tensor(A1, requires_grad=True)\n",
    "ans1=torch.tensor(0.0)\n",
    "pk=torch.tensor(pk)\n",
    "'''\n",
    "for i in range(n):\n",
    "    for j in range(n):\n",
    "        ans1+=A1_torch[i, j]*((x0_torch+alpha*pk)[i]*(x0_torch+alpha*pk)[j])\n",
    "'''\n",
    "\n",
    "#print(x1_torch@A1_torch@x1_torch)\n",
    "ans1=(x0_torch+alpha*pk)@A1_torch@(x0_torch+alpha*pk)\n",
    "ans1.backward()\n",
    "print()\n",
    "print(f'ans: {ans1}')\n",
    "print(f'grad: {alpha.grad}')"
   ]
  },
  {
   "cell_type": "markdown",
   "id": "1b212d0c",
   "metadata": {},
   "source": [
    "# Full Equation"
   ]
  },
  {
   "cell_type": "code",
   "execution_count": 4,
   "id": "01abd717",
   "metadata": {},
   "outputs": [
    {
     "name": "stdout",
     "output_type": "stream",
     "text": [
      "guess\n",
      "1.5596563047955918\n",
      "ans: -0.7013268760344233\n",
      "grad: 1.5596561431884766\n"
     ]
    }
   ],
   "source": [
    "#guess\n",
    "alpha=1.0\n",
    "x0=np.random.randn(2)\n",
    "A=np.identity(2)\n",
    "b=np.ones(2)\n",
    "pk=-(b+.5*(A+A.T)@x0)\n",
    "x1=x0+alpha*pk\n",
    "n=2\n",
    "A1=np.random.randn(n,n)\n",
    "\n",
    "\n",
    "print('guess')\n",
    "print(b@pk+.5*((A1.T+A1)@(x1)).T@pk)\n",
    "\n",
    "\n",
    "#calculate true gradient\n",
    "x1_torch=torch.tensor(x0+alpha*pk, requires_grad=True)\n",
    "x0_torch=torch.tensor(x0, requires_grad=True)\n",
    "alpha=torch.tensor(alpha, requires_grad=True)\n",
    "n=2\n",
    "A1_torch=torch.tensor(A1, requires_grad=True)\n",
    "pk=torch.tensor(pk, requires_grad=True)\n",
    "b_torch=torch.tensor(b, requires_grad=True)\n",
    "\n",
    "ans1=b_torch@(x0_torch+alpha*pk)+.5*(x0_torch+alpha*pk)@A1_torch@(x0_torch+alpha*pk)\n",
    "\n",
    "print(f'ans: {ans1}')\n",
    "ans1.backward()\n",
    "print(f'grad: {alpha.grad}')"
   ]
  },
  {
   "cell_type": "markdown",
   "id": "55985002",
   "metadata": {},
   "source": [
    "# plug $\\alpha^*$ into gradient"
   ]
  },
  {
   "cell_type": "code",
   "execution_count": 27,
   "id": "2e2d3e27",
   "metadata": {},
   "outputs": [
    {
     "name": "stdout",
     "output_type": "stream",
     "text": [
      "1.5543122344752192e-15\n",
      "eigenvalues: [3.1012312  0.92890586]\n",
      "6.661338147750939e-15\n",
      "2.842170943040401e-14\n",
      "-21.29008087464879\n"
     ]
    }
   ],
   "source": [
    "#guess\n",
    "alpha=1.0\n",
    "b=np.random.randn(n)\n",
    "A=np.identity(2)\n",
    "#A=b[:, None]@b[None]\n",
    "n=2\n",
    "x0=np.array([4,2])\n",
    "pk=-(b+.5*(A+A.T)@x0)\n",
    "x1=x0+alpha*pk\n",
    "alpha_star=(pk@pk/(pk@A@pk))\n",
    "\n",
    "\n",
    "alpha=alpha_star\n",
    "print(b@pk+(A@(x0+alpha*pk))@pk)\n",
    "\n",
    "\n",
    "#make symmetric positive definite matrix\n",
    "b=np.random.randn(n)\n",
    "\n",
    "\n",
    "#Try for some positive semidefinite matrix\n",
    "A1=np.random.randn(n,n)\n",
    "A1=A1@A1.T\n",
    "val, vec = eig(A1)\n",
    "while any(val<=0):\n",
    "    A1=np.random.randn(n,n)\n",
    "    A1=A1@A1.T\n",
    "    val, vec = eig(A1)\n",
    "\n",
    "pk=-(b+.5*(A1+A1.T)@x0)\n",
    "\n",
    "print(f'eigenvalues: {val}')\n",
    "alpha_star=((pk@pk)/(pk@A1@pk))\n",
    "alpha=alpha_star\n",
    "print(b@pk+(A1@(x0+alpha*pk))@pk)\n",
    "\n",
    "\n",
    "print(b@pk+pk@A1@x0+pk@pk)\n",
    "print((A@x0-b)@-(A@x0-b))"
   ]
  },
  {
   "cell_type": "code",
   "execution_count": null,
   "id": "f9f36eca",
   "metadata": {},
   "outputs": [],
   "source": []
  }
 ],
 "metadata": {
  "kernelspec": {
   "display_name": "Python 3 (ipykernel)",
   "language": "python",
   "name": "python3"
  },
  "language_info": {
   "codemirror_mode": {
    "name": "ipython",
    "version": 3
   },
   "file_extension": ".py",
   "mimetype": "text/x-python",
   "name": "python",
   "nbconvert_exporter": "python",
   "pygments_lexer": "ipython3",
   "version": "3.10.4"
  }
 },
 "nbformat": 4,
 "nbformat_minor": 5
}
