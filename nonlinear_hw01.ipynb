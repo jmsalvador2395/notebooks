{
 "cells": [
  {
   "cell_type": "markdown",
   "id": "bb42b3cb",
   "metadata": {},
   "source": [
    "# Nonlinear Optimization Homework 1"
   ]
  },
  {
   "cell_type": "markdown",
   "id": "e987ecfd",
   "metadata": {},
   "source": [
    "## Imports"
   ]
  },
  {
   "cell_type": "code",
   "execution_count": 2,
   "id": "a40b2090",
   "metadata": {},
   "outputs": [],
   "source": [
    "import numpy as np"
   ]
  },
  {
   "cell_type": "markdown",
   "id": "d731d714",
   "metadata": {},
   "source": [
    "## Functions:\n",
    "### $f(x)=10(x_2-x_1^2)^2+(1-x_1)^2$\n",
    "### $\\nabla f(x)=\\begin{bmatrix}-40x_1(x_2-x_1^2)+2x_1-2 \\\\\n",
    "20(x_2-x_1^2)\\end{bmatrix}$"
   ]
  },
  {
   "cell_type": "code",
   "execution_count": 66,
   "id": "828e1900",
   "metadata": {},
   "outputs": [
    {
     "name": "stdout",
     "output_type": "stream",
     "text": [
      "0\n",
      "0\n"
     ]
    }
   ],
   "source": [
    "def f(x):\n",
    "    x1, x2=x\n",
    "    return 10*(x2-x1**2)**2+(1-x1)**2\n",
    "\n",
    "def grad_f(x):\n",
    "    x1, x2=x\n",
    "    return -40*x1*(x2-x1**2)+2*x1-2+20*(x2-x1**2)\n",
    "\n",
    "def grad_f_vector(x):\n",
    "    x1, x2=x\n",
    "    return np.array([\n",
    "        -40*x1*(x2-x1**2)+2*x1-2,\n",
    "         20*(x2-x1**2)\n",
    "    ])\n",
    "\n",
    "x=[1,1]\n",
    "x=np.array(x)\n",
    "print(grad_f(x))\n",
    "print(f(x))"
   ]
  },
  {
   "cell_type": "markdown",
   "id": "fa4ca3b3",
   "metadata": {},
   "source": [
    "## Sanity Check 1: Does $f_1(x)=f_2(x)$ ?\n",
    "\n",
    "$f_1(x)=5(x_1+x_2)+6(x_1+x_2)$\n",
    "\n",
    "$f_2(x)=(5+6) \\times (x_1 + x_2)$"
   ]
  },
  {
   "cell_type": "code",
   "execution_count": 128,
   "id": "1101055c",
   "metadata": {},
   "outputs": [
    {
     "name": "stdout",
     "output_type": "stream",
     "text": [
      "the functions are equal\n"
     ]
    }
   ],
   "source": [
    "def test_f1(x):\n",
    "    return 5*np.sum(x)+6*np.sum(x)\n",
    "\n",
    "def test_f2(x):\n",
    "    return 11*np.sum(x)\n",
    "\n",
    "def check_equals(f1, f2, debug=False):\n",
    "    is_equal=True\n",
    "    for i in range(50):\n",
    "        x=np.random.randint(0, 1e4, 2)\n",
    "        is_equal = (f1(x) == f2(x))\n",
    "        if debug:\n",
    "            print(\n",
    "                f'f1(x)={f1(x)}\\tf2(x)={f2(x)}\\t' +\n",
    "                f'{\"equal\" if is_equal else \"not equal\"}'\n",
    "            )\n",
    "        if not is_equal:\n",
    "            break\n",
    "    \n",
    "    if is_equal:\n",
    "        print('the functions are equal')\n",
    "    else:\n",
    "        print('the functions are not equal')\n",
    "            \n",
    "    \n",
    "check_equals(test_f1, test_f2)       \n",
    "\n",
    "        "
   ]
  },
  {
   "cell_type": "markdown",
   "id": "4400f00a",
   "metadata": {},
   "source": [
    "## Sanity Check 2: Does $f_1(x)=f_2(x)=f_3(x)$ ?\n",
    "\n",
    "$f(x)=10(x_2-x_1^2)^2+(1-x_2)^2$\n",
    "\n",
    "$f_1(x)=\\nabla f(x)=-40x_1(x_2-x_1^2) + 2x_1-2$\n",
    "\n",
    "$f_2(x)=\\nabla f(x)=(20-40x_1)(x_2-x_1^2)+2x-2$\n",
    "\n",
    "$f_3(x)=\\nabla f(x)=20(1-2x_1)(x_2-x_1^2)-2(1-x1)$"
   ]
  },
  {
   "cell_type": "code",
   "execution_count": 152,
   "id": "8734eb59",
   "metadata": {},
   "outputs": [
    {
     "name": "stdout",
     "output_type": "stream",
     "text": [
      "the functions are equal\n",
      "the functions are equal\n",
      "[0.  0.1]\n",
      "[1. 1.]\n",
      "[2.         4.03333333]\n",
      "[3.   9.04]\n",
      "[ 4.         16.04285714]\n",
      "[ 5.         25.04444444]\n",
      "[ 6.         36.04545455]\n",
      "[ 7.         49.04615385]\n",
      "[ 8.         64.04666667]\n",
      "[ 9.         81.04705882]\n",
      "[ 10.         100.04736842]\n",
      "[ 11.         121.04761905]\n",
      "[ 12.         144.04782609]\n",
      "[ 13.    169.048]\n",
      "[ 14.         196.04814815]\n",
      "[ 15.         225.04827586]\n",
      "[ 16.        256.0483871]\n",
      "[ 17.         289.04848485]\n",
      "[ 18.         324.04857143]\n",
      "[ 19.         361.04864865]\n"
     ]
    }
   ],
   "source": [
    "#reformulation of gradient\n",
    "def f1(x):\n",
    "    x1, x2=x\n",
    "    return -40*x1*(x2-x1**2)+2*x1-2+20*(x2-x1**2)\n",
    "\n",
    "#second reformulation of gradient\n",
    "def f2(x):\n",
    "    x1, x2=x\n",
    "    return (20-40*x1)*(x2-x1**2)+2*x1-2\n",
    "\n",
    "#third reformulation of gradient\n",
    "def f3(x):\n",
    "    x1, x2=x\n",
    "    return 20*(1-2*x1)*(x2-x1**2)-2*(1-x1)\n",
    "\n",
    "def f4(x):\n",
    "    x1, x2=x\n",
    "    return -40*x1*x2+40*x1**3+2*x1-2+20*x2-20*x1**2\n",
    "\n",
    "def f5(x):\n",
    "    x1, x2=x\n",
    "    return 20*x2*(1-2*x1)+40*x1**3-20*x1**2+2*x1-2\n",
    "\n",
    "def get_x2(x1):\n",
    "    #return (-40*x1**3+20*x1**2-2*x1+2)/(20-40*x1)\n",
    "    return (-20*x1**3+10*x1**2-1*x1+1)/(10-20*x1)\n",
    "\n",
    "check_equals(f1, f4, debug=False)\n",
    "check_equals(f4, f5, debug=False)\n",
    "\n",
    "for i in range(20):\n",
    "    zero=np.array([i, get_x2(i)])\n",
    "    print(zero)\n",
    "    #print(f1(zero))"
   ]
  },
  {
   "cell_type": "markdown",
   "id": "07cc449d",
   "metadata": {},
   "source": [
    "## Continuity of the Hessian at the Stationary Points $\\nabla^2 f(x^*), x^*=[x_1, \\frac{-20x_1^3+10x_1^2-x_1+1}{10-20x_1}]$\n",
    "\n",
    "$\\nabla^2 f(x^*)=\\begin{bmatrix}\n",
    "    80x_1^2-40(x_2-x_1^2)+2 & -40x_1 \\\\\n",
    "    -40x_1 & 20\n",
    "\\end{bmatrix}$\n",
    "\n",
    "$\\lim\\limits_{x \\to x^*}\\nabla^2f(x)=\\begin{bmatrix}\n",
    "80x_1^2-2 & -40x_1 \\\\\n",
    "-40x_1 & 20\\end{bmatrix}$"
   ]
  },
  {
   "cell_type": "code",
   "execution_count": 155,
   "id": "c6fa5194",
   "metadata": {},
   "outputs": [
    {
     "name": "stdout",
     "output_type": "stream",
     "text": [
      "x*=[0.  0.1]\n",
      "[[-2. -0.]\n",
      " [-0. 20.]]\n",
      "\n",
      "x*=[1. 1.]\n",
      "[[ 82. -40.]\n",
      " [-40.  20.]]\n",
      "\n",
      "x*=[2.         4.03333333]\n",
      "[[320.66666667 -80.        ]\n",
      " [-80.          20.        ]]\n",
      "\n",
      "x*=[3.   9.04]\n",
      "[[ 720.4 -120. ]\n",
      " [-120.    20. ]]\n",
      "\n",
      "x*=[ 4.         16.04285714]\n",
      "[[1280.28571429 -160.        ]\n",
      " [-160.           20.        ]]\n",
      "\n",
      "x*=[ 5.         25.04444444]\n",
      "[[2000.22222222 -200.        ]\n",
      " [-200.           20.        ]]\n",
      "\n",
      "x*=[ 6.         36.04545455]\n",
      "[[2880.18181818 -240.        ]\n",
      " [-240.           20.        ]]\n",
      "\n",
      "x*=[ 7.         49.04615385]\n",
      "[[3920.15384615 -280.        ]\n",
      " [-280.           20.        ]]\n",
      "\n",
      "x*=[ 8.         64.04666667]\n",
      "[[5120.13333333 -320.        ]\n",
      " [-320.           20.        ]]\n",
      "\n",
      "x*=[ 9.         81.04705882]\n",
      "[[6480.11764706 -360.        ]\n",
      " [-360.           20.        ]]\n",
      "\n"
     ]
    }
   ],
   "source": [
    "#compute hessian\n",
    "def hessian_f(x):\n",
    "    x1, x2=x\n",
    "    hessian=np.zeros((2,2))\n",
    "    hessian[0, 0] = 80*x1**2-40*(x2-x1**2)+2\n",
    "    hessian[0, 1] = hessian[1, 0] = -40*x1\n",
    "    hessian[1, 1] = 20\n",
    "    return hessian\n",
    "\n",
    "for i in range(10):\n",
    "    x_star=np.array([i, get_x2(i)])\n",
    "    print(f'x*={x_star}')\n",
    "    hessian=hessian_f(x_star)\n",
    "    print(hessian)\n",
    "    print()"
   ]
  },
  {
   "cell_type": "markdown",
   "id": "cdf40101",
   "metadata": {},
   "source": [
    "## Use Taylor Expansion to Find $f([1, 1])$ Centered at $x=[2, -1]$"
   ]
  },
  {
   "cell_type": "code",
   "execution_count": 113,
   "id": "2f7ae166",
   "metadata": {},
   "outputs": [
    {
     "name": "stdout",
     "output_type": "stream",
     "text": [
      "********************\n",
      "t=0\n",
      "f([2, -1])=251\n",
      "true f([1, 1])=0\n",
      "taylor approximation of f([2, -1] + t[-1, 2])=-351\n",
      "f(1, 1)-T(1, 1)=351\n",
      "********************\n",
      "********************\n",
      "t=1\n",
      "f([2, -1])=251\n",
      "true f([1, 1])=0\n",
      "taylor approximation of f([2, -1] + t[-1, 2])=251\n",
      "f(1, 1)-T(1, 1)=-251\n",
      "********************\n",
      "best taylor error=251\n"
     ]
    }
   ],
   "source": [
    "center=np.array([2, -1])\n",
    "target=np.array([1, 1])\n",
    "\n",
    "#computes the first order taylor approximation for given center, target and t \\in (0,1)\n",
    "def first_order_taylor(center, target, t, debug=False):\n",
    "    x=center\n",
    "    p=target-center\n",
    "    if debug:\n",
    "        print(f'\\nx={x}')\n",
    "        print(f'p={p}')\n",
    "        print(f'f(x)={f(x)}')\n",
    "        print(f'grad_f_vector(x+t*p)={grad_f_vector(x+t*p)}')\n",
    "        print(f'grad_f_vector(x)={grad_f_vector(x)}')\n",
    "        print(f'grad_f_vector(x+t*p)@p={grad_f_vector(x+t*p)@p}\\n')\n",
    "    return f(x)+grad_f_vector(x+t*p)@p\n",
    "\n",
    "#loop through min and max t values\n",
    "taylor_error=np.inf #use this later\n",
    "t_vals=[0, 1]\n",
    "for t in t_vals:\n",
    "    print(f'{\"*\"*20}')\n",
    "    print(f't={t}')\n",
    "    print(f'f([2, -1])={f(center)}')\n",
    "    print(f'true f([1, 1])={f(target)}')\n",
    "    expansion=first_order_taylor(center, target, t, debug=False)\n",
    "    print(f'taylor approximation of f([2, -1] + t[-1, 2])={expansion}')\n",
    "    taylor_error=min(abs(f(target)-expansion), taylor_error)\n",
    "    print(f'f(1, 1)-T(1, 1)={f(target)-expansion}')\n",
    "    print(f'{\"*\"*20}')\n",
    "\n",
    "print(f'best taylor error={taylor_error}')\n",
    "    "
   ]
  },
  {
   "cell_type": "markdown",
   "id": "b431037b",
   "metadata": {},
   "source": [
    "## Alternate Version of Taylor's Theorem $f(x+p)=f(x)+\\nabla f(x)^Tp+\\int_0^1(1-t)p^T\\nabla^2 f(x+tp)pdt$\n",
    "\n",
    "### want to compute $R(t)=\\int_0^1(1-t)p^T\\nabla^2 f(x+tp)pdt$\n",
    "\n",
    "### $R(t)=(20t^4+\\frac{1480t^3}{3}-801t^2+922t+C)\\rvert_0^1$"
   ]
  },
  {
   "cell_type": "code",
   "execution_count": 114,
   "id": "9b6755b5",
   "metadata": {},
   "outputs": [
    {
     "name": "stdout",
     "output_type": "stream",
     "text": [
      "R(t)=634.3333333333333\n",
      "taylor error vs R(t)=383.33333333333326\n"
     ]
    }
   ],
   "source": [
    "def R(upper_bound, lower_bound):\n",
    "    bound = lambda t:20*t**4+1480*t**3/3-801*t**2+922*t\n",
    "    return bound(upper_bound)-bound(lower_bound)\n",
    "\n",
    "print(f'R(t)={R(1, 0)}')\n",
    "print(f'taylor error vs R(t)={abs(taylor_error-R(1,0))}')"
   ]
  },
  {
   "cell_type": "code",
   "execution_count": null,
   "id": "fceba46e",
   "metadata": {},
   "outputs": [],
   "source": []
  }
 ],
 "metadata": {
  "kernelspec": {
   "display_name": "Python 3 (ipykernel)",
   "language": "python",
   "name": "python3"
  },
  "language_info": {
   "codemirror_mode": {
    "name": "ipython",
    "version": 3
   },
   "file_extension": ".py",
   "mimetype": "text/x-python",
   "name": "python",
   "nbconvert_exporter": "python",
   "pygments_lexer": "ipython3",
   "version": "3.11.3"
  }
 },
 "nbformat": 4,
 "nbformat_minor": 5
}
