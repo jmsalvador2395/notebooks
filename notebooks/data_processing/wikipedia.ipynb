{
 "cells": [
  {
   "cell_type": "code",
   "execution_count": 2,
   "id": "2a5dc0d6-300a-407e-b3e2-7d381161e984",
   "metadata": {},
   "outputs": [
    {
     "name": "stderr",
     "output_type": "stream",
     "text": [
      "/data/john/projects/nb/env/lib/python3.11/site-packages/tqdm/auto.py:21: TqdmWarning: IProgress not found. Please update jupyter and ipywidgets. See https://ipywidgets.readthedocs.io/en/stable/user_install.html\n",
      "  from .autonotebook import tqdm as notebook_tqdm\n",
      "2024-04-11 08:53:22.112799: I tensorflow/core/platform/cpu_feature_guard.cc:210] This TensorFlow binary is optimized to use available CPU instructions in performance-critical operations.\n",
      "To enable the following instructions: AVX2 FMA, in other operations, rebuild TensorFlow with the appropriate compiler flags.\n",
      "2024-04-11 08:53:24.256034: W tensorflow/compiler/tf2tensorrt/utils/py_utils.cc:38] TF-TRT Warning: Could not find TensorRT\n"
     ]
    },
    {
     "name": "stdout",
     "output_type": "stream",
     "text": [
      "[\u001b[35mNOTE\u001b[0m] changed directory to '/data/john/projects/mltoolkit'\n"
     ]
    }
   ],
   "source": [
    "import torch\n",
    "import numpy as np\n",
    "import datasets\n",
    "import os\n",
    "import umap\n",
    "import evaluate\n",
    "import accelerate\n",
    "from pathlib import Path\n",
    "from itertools import product\n",
    "from IPython.core.debugger import set_trace\n",
    "from datasets import Dataset, DatasetDict\n",
    "from torch import nn\n",
    "from torch.nn import functional as F\n",
    "from sentence_transformers import SentenceTransformer\n",
    "from nltk import sent_tokenize\n",
    "from IPython.core.debugger import Pdb\n",
    "from matplotlib import pyplot as plt\n",
    "from transformers import AutoModel, AutoTokenizer\n",
    "from pprint import pprint\n",
    "from scipy.stats import spearmanr\n",
    "from tqdm import tqdm\n",
    "from multiprocessing import Pool\n",
    "from itertools import chain\n",
    "from numpy.lib.stride_tricks import sliding_window_view\n",
    "\n",
    "from nbtools.sent_encoders.hf_models import from_hf\n",
    "from nbtools.utils import (\n",
    "    files,\n",
    "    tensor_utils,\n",
    "    display,\n",
    ")\n",
    "os.chdir('/data/john/projects/mltoolkit/')\n",
    "cache_dir='./data/cache'\n",
    "display.note(f'changed directory to \\'{os.getcwd()}\\'')\n",
    "\n",
    "datasets.disable_caching()\n",
    "\n",
    "# Set this to whatever you want\n",
    "seed = 10\n",
    "\n",
    "torch.manual_seed(seed)\n",
    "np.random.seed(seed)\n",
    "\n",
    "%load_ext autoreload\n",
    "%autoreload 2\n",
    "%matplotlib inline"
   ]
  },
  {
   "cell_type": "markdown",
   "id": "5cd05047",
   "metadata": {},
   "source": [
    "# Load Data"
   ]
  },
  {
   "cell_type": "code",
   "execution_count": 4,
   "id": "babc5dab-dab5-4172-9974-2e925e0ca585",
   "metadata": {},
   "outputs": [
    {
     "name": "stderr",
     "output_type": "stream",
     "text": [
      "Downloading data: 100%|██████████| 733k/733k [00:00<00:00, 1.34MB/s]\n",
      "Downloading data: 100%|██████████| 157M/157M [00:15<00:00, 10.2MB/s] \n",
      "Downloading data: 100%|██████████| 157M/157M [00:14<00:00, 10.6MB/s] \n",
      "Downloading data: 100%|██████████| 657k/657k [00:00<00:00, 1.52MB/s]\n",
      "Generating test split: 100%|██████████| 4358/4358 [00:00<00:00, 58268.52 examples/s]\n",
      "Generating train split: 100%|██████████| 1801350/1801350 [00:02<00:00, 625132.81 examples/s]\n",
      "Generating validation split: 100%|██████████| 3760/3760 [00:00<00:00, 500987.42 examples/s]\n"
     ]
    },
    {
     "name": "stdout",
     "output_type": "stream",
     "text": [
      "DatasetDict({\n",
      "    test: Dataset({\n",
      "        features: ['text'],\n",
      "        num_rows: 4358\n",
      "    })\n",
      "    train: Dataset({\n",
      "        features: ['text'],\n",
      "        num_rows: 1801350\n",
      "    })\n",
      "    validation: Dataset({\n",
      "        features: ['text'],\n",
      "        num_rows: 3760\n",
      "    })\n",
      "})\n"
     ]
    }
   ],
   "source": [
    "\n",
    "ds = datasets.load_dataset(\n",
    "    'wikitext',\n",
    "    'wikitext-103-raw-v1',\n",
    "    cache_dir=cache_dir,\n",
    "    trust_remote_code=True,\n",
    ")\n",
    "\n",
    "\"\"\"\n",
    "ds = datasets.load_dataset(\n",
    "    'wikipedia',\n",
    "    '20220301.en',\n",
    "    #language='en',\n",
    "    #date='20240401',\n",
    "    cache_dir=cache_dir,\n",
    "    trust_remote_code=True,\n",
    ")\n",
    "\"\"\"\n",
    "\n",
    "print(ds)"
   ]
  },
  {
   "cell_type": "code",
   "execution_count": 5,
   "id": "f706ae9d-6180-4354-8734-4d9e30da1d77",
   "metadata": {},
   "outputs": [],
   "source": [
    "num_proc = 10\n",
    "#data = ds['train'][:]\n",
    "\n",
    "def map_fn(x):\n",
    "    return len(sent_tokenize(x['text']))\n",
    "\n",
    "with Pool(num_proc) as p:\n",
    "    counts = list(p.imap(\n",
    "        map_fn,\n",
    "        ds['train'],\n",
    "    ))\n"
   ]
  },
  {
   "cell_type": "code",
   "execution_count": 9,
   "id": "cc53bdee-4ec1-4d1d-9bfc-ee6ca2567992",
   "metadata": {},
   "outputs": [
    {
     "name": "stdout",
     "output_type": "stream",
     "text": [
      "1.0000\n",
      "ratio of samples within limit: 0.9975\n",
      "ratio of samples within limit: 1.0000\n",
      "ratio of samples within limit: 1.0000\n",
      "ratio of samples within limit: 1.0000\n",
      "ratio of samples within limit: 1.0000\n"
     ]
    },
    {
     "data": {
      "image/png": "[encoded data removed]",
      "text/plain": [
       "<Figure size 640x480 with 1 Axes>"
      ]
     },
     "metadata": {},
     "output_type": "display_data"
    }
   ],
   "source": [
    "max_number = 64\n",
    "sent_counts = np.array(counts)\n",
    "#sent_counts = np.load('/data/john/files/wikipedia_sent_counts.npy')\n",
    "sent_counts_filtered = sent_counts[sent_counts <= max_number]\n",
    "print(f'{len(sent_counts_filtered) / len(sent_counts):.04f}')\n",
    "_ = plt.hist(sent_counts_filtered, bins=max_number, density=True)\n",
    "\n",
    "limits = np.array([16, 32, 64, 128, 256])\n",
    "for limit in limits:\n",
    "    print(f'ratio of samples within limit: {len(sent_counts[sent_counts <= limit])/len(sent_counts):.04f}')"
   ]
  },
  {
   "cell_type": "markdown",
   "id": "27d084f4",
   "metadata": {},
   "source": [
    "# Notes from counting sentences\n",
    "\n",
    "| $t$ | $\\frac{1}{N}\\sum\\limits_{i}^{N} 1(\\text{CountSents}(d_i) \\leq t)$ |\n",
    "| --- | ----------------------------------------------------------------- |\n",
    "| $512$ | .9999                                                           |\n",
    "| $256$ | .9946                                                           |\n",
    "| $128$ | .9789                                                           |\n",
    "| $64$  | .9350                                                           |\n"
   ]
  },
  {
   "cell_type": "markdown",
   "id": "39a5e454",
   "metadata": {},
   "source": [
    "# Load Sentence Encoder"
   ]
  },
  {
   "cell_type": "code",
   "execution_count": 10,
   "id": "e1fb866c",
   "metadata": {},
   "outputs": [],
   "source": [
    "model_name = 'mixedbread-ai/mxbai-embed-large-v1'\n",
    "encoder = from_hf(\n",
    "    model_name, \n",
    "    emb_dim=1024, \n",
    "    max_seq_len=512,\n",
    "    cache_dir='./',\n",
    ")"
   ]
  },
  {
   "cell_type": "markdown",
   "id": "cedbc7c9",
   "metadata": {},
   "source": [
    "# Convert to Embeddings"
   ]
  },
  {
   "cell_type": "code",
   "execution_count": 11,
   "id": "89c51ac8",
   "metadata": {},
   "outputs": [
    {
     "name": "stderr",
     "output_type": "stream",
     "text": [
      "Map: 100%|██████████| 4358/4358 [00:18<00:00, 236.55 examples/s]\n",
      "Map: 100%|██████████| 1801350/1801350 [2:08:45<00:00, 233.17 examples/s] \n",
      "Map: 100%|██████████| 3760/3760 [00:15<00:00, 241.51 examples/s]\n"
     ]
    }
   ],
   "source": [
    "def map_fn(batch, **fn_kwargs):\n",
    "\n",
    "    # prepare documents\n",
    "    doc_sents = [sent_tokenize(doc) for doc in batch['text']]\n",
    "    lengths = [len(doc) for doc in doc_sents]\n",
    "    indices = np.array(lengths).cumsum()[:-1]\n",
    "    sents = list(chain.from_iterable(doc_sents))\n",
    "\n",
    "    # compute embeddings\n",
    "    embeddings = fn_kwargs['encoder'].encode_multi_process(\n",
    "        sents,\n",
    "        pool=fn_kwargs['pool'],\n",
    "        batch_size=128,\n",
    "    )\n",
    "\n",
    "    # add embeddings to batch\n",
    "    batch['embeddings'] = np.split(embeddings, indices)\n",
    "\n",
    "    return batch\n",
    "\n",
    "try:\n",
    "    encoder.stop_multi_process_pool(pool)\n",
    "except:\n",
    "    pass\n",
    "\n",
    "pool = encoder.start_multi_process_pool()\n",
    "mds = ds.map(\n",
    "    map_fn, \n",
    "    batched=True, \n",
    "    #batch_size=1024,\n",
    "    batch_size=2048,\n",
    "    fn_kwargs={\n",
    "        'encoder': encoder,\n",
    "        'pool': pool,\n",
    "    }\n",
    ")\n",
    "\n",
    "encoder.stop_multi_process_pool(pool)\n"
   ]
  },
  {
   "cell_type": "code",
   "execution_count": 12,
   "id": "a5222215",
   "metadata": {},
   "outputs": [
    {
     "name": "stderr",
     "output_type": "stream",
     "text": [
      "Saving the dataset (1/1 shards): 100%|██████████| 4358/4358 [00:00<00:00, 66429.63 examples/s]\n",
      "Saving the dataset (37/37 shards): 100%|██████████| 1801350/1801350 [01:40<00:00, 17841.21 examples/s]\n",
      "Saving the dataset (1/1 shards): 100%|██████████| 3760/3760 [00:01<00:00, 2770.18 examples/s]\n"
     ]
    }
   ],
   "source": [
    "mds.save_to_disk(f'{cache_dir}/wiki_embeddings_small')"
   ]
  },
  {
   "cell_type": "markdown",
   "id": "9c39bb90",
   "metadata": {},
   "source": [
    "# Batch Size Timings\n",
    "\n",
    "| N    | Time (hrs) |\n",
    "| ---- | ---------- |\n",
    "| 1024 | 428        |\n",
    "| 2048 | 327        |"
   ]
  }
 ],
 "metadata": {
  "kernelspec": {
   "display_name": "Python 3 (ipykernel)",
   "language": "python",
   "name": "python3"
  },
  "language_info": {
   "codemirror_mode": {
    "name": "ipython",
    "version": 3
   },
   "file_extension": ".py",
   "mimetype": "text/x-python",
   "name": "python",
   "nbconvert_exporter": "python",
   "pygments_lexer": "ipython3",
   "version": "3.11.7"
  }
 },
 "nbformat": 4,
 "nbformat_minor": 5
}
