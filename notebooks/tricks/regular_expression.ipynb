{
 "cells": [
  {
   "cell_type": "code",
   "execution_count": 2,
   "id": "b5ab1477-982e-4b69-a3d7-aa406960b392",
   "metadata": {},
   "outputs": [
    {
     "name": "stderr",
     "output_type": "stream",
     "text": [
      "/data/john/projects/nb/env/lib/python3.11/site-packages/tqdm/auto.py:21: TqdmWarning: IProgress not found. Please update jupyter and ipywidgets. See https://ipywidgets.readthedocs.io/en/stable/user_install.html\n",
      "  from .autonotebook import tqdm as notebook_tqdm\n"
     ]
    }
   ],
   "source": [
    "import datasets\n",
    "import torch\n",
    "import numpy as np\n",
    "import re\n",
    "\n",
    "%load_ext autoreload\n",
    "%autoreload 2\n",
    "%matplotlib inline"
   ]
  },
  {
   "cell_type": "code",
   "execution_count": 4,
   "id": "85fce0e4-e24a-402c-9ee4-f7d9e6b6a4a5",
   "metadata": {},
   "outputs": [
    {
     "data": {
      "text/plain": [
       "(tensor([[-0.0531,  0.1989],\n",
       "         [ 0.1965,  0.6295]], grad_fn=<SplitBackward0>),\n",
       " tensor([[-0.2233, -0.1240],\n",
       "         [-0.0873,  0.1890]], grad_fn=<SplitBackward0>))"
      ]
     },
     "execution_count": 4,
     "metadata": {},
     "output_type": "execute_result"
    }
   ],
   "source": [
    "a = torch.nn.Linear(4, 4)\n",
    "\n",
    "a(torch.rand(2, 4)).chunk(2, dim=-1)"
   ]
  },
  {
   "cell_type": "markdown",
   "id": "75876aa4",
   "metadata": {},
   "source": [
    "# Test Regular Expression"
   ]
  },
  {
   "cell_type": "code",
   "execution_count": 7,
   "id": "205fceef",
   "metadata": {},
   "outputs": [
    {
     "name": "stdout",
     "output_type": "stream",
     "text": [
      "None\n"
     ]
    }
   ],
   "source": [
    "\n",
    "text = [\n",
    "    'when: ansible_distribution_major_version == \\\"8\\\"',\n",
    "    'when: ansible_distribution_major_version | int == 8'\n",
    "]\n",
    "\n",
    "fltr1 = re.compile('when:\\s*ansible_distribution_major_version\\s*==\\s*[\\'\\\"]\\s*[0-9]*\\s*')\n",
    "fltr2 = re.compile('when:\\s*ansible_distribution_major_version\\s*\\|\\s*int\\s*==\\s*[\\'\\\"]\\s*[0-9]')\n",
    "\n",
    "print(fltr2.search(text[0]))\n",
    "print(fltr2.search('test'))"
   ]
  },
  {
   "cell_type": "code",
   "execution_count": 7,
   "id": "c6ded053",
   "metadata": {},
   "outputs": [
    {
     "ename": "AttributeError",
     "evalue": "'str' object has no attribute 'group'",
     "output_type": "error",
     "traceback": [
      "\u001b[0;31m---------------------------------------------------------------------------\u001b[0m",
      "\u001b[0;31mAttributeError\u001b[0m                            Traceback (most recent call last)",
      "Cell \u001b[0;32mIn[7], line 7\u001b[0m\n\u001b[1;32m      4\u001b[0m ok_str \u001b[38;5;241m=\u001b[39m ok_match\u001b[38;5;241m.\u001b[39msearch(text)\u001b[38;5;241m.\u001b[39mgroup(\u001b[38;5;241m0\u001b[39m)\n\u001b[1;32m      6\u001b[0m num_match \u001b[38;5;241m=\u001b[39m re\u001b[38;5;241m.\u001b[39mcompile(\u001b[38;5;124m'\u001b[39m\u001b[38;5;124m[0-9]*\u001b[39m\u001b[38;5;124m'\u001b[39m)\n\u001b[0;32m----> 7\u001b[0m number \u001b[38;5;241m=\u001b[39m num_match\u001b[38;5;241m.\u001b[39msearch(\u001b[43mok_str\u001b[49m\u001b[38;5;241;43m.\u001b[39;49m\u001b[43mgroup\u001b[49m(\u001b[38;5;241m0\u001b[39m))\n\u001b[1;32m      9\u001b[0m \u001b[38;5;28mprint\u001b[39m(number)\n",
      "\u001b[0;31mAttributeError\u001b[0m: 'str' object has no attribute 'group'"
     ]
    }
   ],
   "source": [
    "text = 'ok=2    changed=1    unreachable=0    failed=0    skipped=0    rescued=0    ignored=0'\n",
    "\n",
    "ok_match = re.compile('ok\\=[0-9]*')\n",
    "ok_str = ok_match.search(text).group(0)\n",
    "\n",
    "num_match = re.compile('[0-9]*')\n",
    "number = num_match.search(ok_str).group(0)\n",
    "\n",
    "print(number)"
   ]
  }
 ],
 "metadata": {
  "kernelspec": {
   "display_name": "Python 3 (ipykernel)",
   "language": "python",
   "name": "python3"
  },
  "language_info": {
   "codemirror_mode": {
    "name": "ipython",
    "version": 3
   },
   "file_extension": ".py",
   "mimetype": "text/x-python",
   "name": "python",
   "nbconvert_exporter": "python",
   "pygments_lexer": "ipython3",
   "version": "3.11.3"
  }
 },
 "nbformat": 4,
 "nbformat_minor": 5
}
