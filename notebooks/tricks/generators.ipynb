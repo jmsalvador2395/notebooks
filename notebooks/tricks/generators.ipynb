{
 "cells": [
  {
   "cell_type": "markdown",
   "id": "fc7f10fb-c18a-4ee8-8093-4d583c4264d1",
   "metadata": {},
   "source": [
    "# This Notebook is for testing generator functions\n",
    "\n",
    "Plan is to use this for random search"
   ]
  },
  {
   "cell_type": "markdown",
   "id": "b6491012-2c2b-4304-8a24-d40cef1dff00",
   "metadata": {},
   "source": [
    "# Imports"
   ]
  },
  {
   "cell_type": "code",
   "execution_count": 6,
   "id": "ce06349c-f34c-425d-a3bf-0b612e1f6c99",
   "metadata": {},
   "outputs": [],
   "source": [
    "import torch\n",
    "import numpy as np\n",
    "\n",
    "# Set this to whatever you want\n",
    "seed = 10\n",
    "\n",
    "torch.manual_seed(seed)\n",
    "np.random.seed(seed)"
   ]
  },
  {
   "cell_type": "markdown",
   "id": "72ae9250-d034-432b-97e5-a3f3700ddb5e",
   "metadata": {},
   "source": [
    "# Define Hyperparameters"
   ]
  },
  {
   "cell_type": "code",
   "execution_count": 15,
   "id": "d9093545-363b-4701-afa0-7f3979ea85af",
   "metadata": {},
   "outputs": [],
   "source": [
    "params = {\n",
    "    'lr': {'values': [1e-3, 1e-2],\n",
    "           'dtype': 'float'},\n",
    "    'batch_size': {'values': [10, 32],\n",
    "                    'num_samples': 10,\n",
    "                    'dtype': 'int'},\n",
    "    'weight_decay': {'values': [1e-7, 1e-5, 1e-3],\n",
    "                     'dtype': 'float'}\n",
    "}"
   ]
  },
  {
   "cell_type": "markdown",
   "id": "2cd4614e-7555-4ad7-8322-fe06ecc7dee3",
   "metadata": {},
   "source": [
    "# Define generator\n",
    "\n",
    "### Cases\n",
    "* dtypes\n",
    "* num_values given"
   ]
  },
  {
   "cell_type": "code",
   "execution_count": 46,
   "id": "d277ca6e-9b54-4317-b49c-44989ece708e",
   "metadata": {},
   "outputs": [],
   "source": [
    "def random_search(steps, params):\n",
    "    search_space = {}\n",
    "    for param, param_dict in params.items():\n",
    "        dtype = param_dict['dtype']\n",
    "        values = param_dict['values']\n",
    "        if 'num_samples' in param_dict:\n",
    "            if dtype == 'float':\n",
    "                samples = np.random.uniform(\n",
    "                    values[0],\n",
    "                    values[-1],\n",
    "                    (steps,)\n",
    "                )\n",
    "            elif dtype == 'int':\n",
    "                samples = np.random.randint(\n",
    "                    values[0],\n",
    "                    values[-1],\n",
    "                    (steps,)\n",
    "                )\n",
    "            else:\n",
    "                raise ValueError(f'dtype \"{dtype}\" is not valid')\n",
    "        else:\n",
    "            samples = np.random.choice(values, (steps,))\n",
    "            print(type(samples))\n",
    "        search_space[param] = samples.tolist()\n",
    "\n",
    "    search_space = [val for val in zip(*search_space.values())]\n",
    "    return search_space"
   ]
  },
  {
   "cell_type": "code",
   "execution_count": 40,
   "id": "9ce855b9-4c61-40c6-836a-540b3da92920",
   "metadata": {},
   "outputs": [
    {
     "name": "stdout",
     "output_type": "stream",
     "text": [
      "[(0, 0), (1, 1), (2, 2), (3, 3), (4, 4), (5, 5), (6, 6), (7, 7), (8, 8), (9, 9)]\n"
     ]
    }
   ],
   "source": [
    "print(list(zip(range(10), range(10))))\n",
    "np.array([10]).as"
   ]
  },
  {
   "cell_type": "code",
   "execution_count": 47,
   "id": "424606a4-8d6d-4341-8281-5f5a2bc7ec9b",
   "metadata": {},
   "outputs": [
    {
     "name": "stdout",
     "output_type": "stream",
     "text": [
      "<class 'numpy.ndarray'>\n",
      "<class 'numpy.ndarray'>\n",
      "[(0.001, 14, 1e-07), (0.001, 24, 1e-07), (0.001, 13, 1e-07), (0.001, 22, 1e-07), (0.01, 17, 1e-05), (0.001, 14, 0.001), (0.001, 15, 1e-07), (0.001, 24, 1e-07), (0.01, 12, 1e-05), (0.01, 27, 1e-05), (0.01, 13, 1e-05), (0.001, 12, 1e-07), (0.001, 10, 1e-05), (0.01, 30, 0.001), (0.01, 17, 1e-05), (0.01, 20, 0.001), (0.01, 28, 1e-07), (0.01, 18, 1e-05), (0.001, 26, 0.001), (0.001, 28, 1e-07)]\n"
     ]
    }
   ],
   "source": [
    "search_space = random_search(20, params)\n",
    "print(search_space)"
   ]
  }
 ],
 "metadata": {
  "kernelspec": {
   "display_name": "Python 3 (ipykernel)",
   "language": "python",
   "name": "python3"
  },
  "language_info": {
   "codemirror_mode": {
    "name": "ipython",
    "version": 3
   },
   "file_extension": ".py",
   "mimetype": "text/x-python",
   "name": "python",
   "nbconvert_exporter": "python",
   "pygments_lexer": "ipython3",
   "version": "3.11.3"
  }
 },
 "nbformat": 4,
 "nbformat_minor": 5
}
