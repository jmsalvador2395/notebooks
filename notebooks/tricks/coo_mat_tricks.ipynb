{
 "cells": [
  {
   "cell_type": "markdown",
   "id": "ba500cb9-e7ed-436d-ab39-08846c06f74f",
   "metadata": {},
   "source": [
    "# This notebook is for strategies to build a co-occurrence matrix"
   ]
  },
  {
   "cell_type": "markdown",
   "id": "f14efebe-e70b-4ae9-a007-8db155ce25e4",
   "metadata": {},
   "source": [
    "# Imports"
   ]
  },
  {
   "cell_type": "code",
   "execution_count": 1,
   "id": "4757e682-ea48-4a21-b416-6509e38392e0",
   "metadata": {},
   "outputs": [],
   "source": [
    "import torch\n",
    "import numpy as np\n",
    "from numpy.lib.stride_tricks import sliding_window_view\n",
    "\n",
    "%load_ext autoreload\n",
    "%autoreload 2\n",
    "%matplotlib inline"
   ]
  },
  {
   "cell_type": "markdown",
   "id": "2ec565da-2e6e-46bc-a21c-c68cf396e7d1",
   "metadata": {},
   "source": [
    "# Set testing array and co-occurrence matrix"
   ]
  },
  {
   "cell_type": "code",
   "execution_count": 2,
   "id": "104c0970-0c9d-4588-9328-6a3cd77c71a8",
   "metadata": {},
   "outputs": [
    {
     "name": "stdout",
     "output_type": "stream",
     "text": [
      "[[0 1 2 3 4]\n",
      " [5 6 7 8 9]]\n"
     ]
    }
   ],
   "source": [
    "n = 10\n",
    "a = np.arange(n).reshape((2, 5))\n",
    "\n",
    "print(a)"
   ]
  },
  {
   "cell_type": "markdown",
   "id": "37845051-c0de-4ecc-8de5-5e0d120642ce",
   "metadata": {},
   "source": [
    "# Get Co-occurrence pairs in torch"
   ]
  },
  {
   "cell_type": "code",
   "execution_count": 3,
   "id": "6001c0ba-04f7-47d4-a2de-acaf65673827",
   "metadata": {},
   "outputs": [
    {
     "name": "stdout",
     "output_type": "stream",
     "text": [
      "tensor([[[0, 1],\n",
      "         [1, 2],\n",
      "         [2, 3],\n",
      "         [3, 4]],\n",
      "\n",
      "        [[5, 6],\n",
      "         [6, 7],\n",
      "         [7, 8],\n",
      "         [8, 9]]])\n"
     ]
    }
   ],
   "source": [
    "\n",
    "torch_pairs = torch.tensor(a).unfold(1, 2, 1)\n",
    "\n",
    "print(torch_pairs)"
   ]
  },
  {
   "cell_type": "markdown",
   "id": "8f1dfdd3-8355-4c15-839b-89d75ed93762",
   "metadata": {},
   "source": [
    "# Get Co-occurrence pairs in numpy"
   ]
  },
  {
   "cell_type": "code",
   "execution_count": 9,
   "id": "a04f565b-24bd-4229-bf5f-60ae9e86377d",
   "metadata": {},
   "outputs": [
    {
     "name": "stdout",
     "output_type": "stream",
     "text": [
      "[[0 1]\n",
      " [1 2]\n",
      " [2 3]\n",
      " [3 4]\n",
      " [5 6]\n",
      " [6 7]\n",
      " [7 8]\n",
      " [8 9]]\n"
     ]
    }
   ],
   "source": [
    "\n",
    "np_pairs = sliding_window_view(a, (2,), axis=1)\n",
    "np_pairs = np.vstack(np_pairs)\n",
    "print(np_pairs)"
   ]
  }
 ],
 "metadata": {
  "kernelspec": {
   "display_name": "Python 3 (ipykernel)",
   "language": "python",
   "name": "python3"
  },
  "language_info": {
   "codemirror_mode": {
    "name": "ipython",
    "version": 3
   },
   "file_extension": ".py",
   "mimetype": "text/x-python",
   "name": "python",
   "nbconvert_exporter": "python",
   "pygments_lexer": "ipython3",
   "version": "3.11.3"
  }
 },
 "nbformat": 4,
 "nbformat_minor": 5
}
