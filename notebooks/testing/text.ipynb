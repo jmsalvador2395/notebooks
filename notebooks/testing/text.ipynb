{
 "cells": [
  {
   "cell_type": "code",
   "execution_count": 22,
   "metadata": {},
   "outputs": [],
   "source": [
    "import re\n",
    "from pprint import pprint\n",
    "from nltk import sent_tokenize"
   ]
  },
  {
   "cell_type": "code",
   "execution_count": 13,
   "metadata": {},
   "outputs": [],
   "source": [
    "text = [\n",
    "    'yesterday we say some really bright colors on the road while we were driving <eos> we went close to what it was, it was a pattern of some sorts <eos> someone light candles in shape of design <eos> locals told me it was part of chinese new year <eos> it was really gorgeous to see illuminated building at night',\n",
    "    'we recently went to a shopping center. <eos> it was during the holiday season. <eos> we overlooked the center lobby from the upper floor. <eos> we then noticed the large christmas tree in the distance. <eos> we then went up to the tree to see how nice it looked up close.'\n",
    "]"
   ]
  },
  {
   "cell_type": "code",
   "execution_count": 24,
   "metadata": {},
   "outputs": [
    {
     "data": {
      "text/plain": [
       "['yesterday we say some really bright colors on the road while we were driving.',\n",
       " 'we went close to what it was, it was a pattern of some sorts.',\n",
       " 'someone light candles in shape of design.',\n",
       " 'locals told me it was part of chinese new year.',\n",
       " 'it was really gorgeous to see illuminated building at night']"
      ]
     },
     "execution_count": 24,
     "metadata": {},
     "output_type": "execute_result"
    }
   ],
   "source": [
    "splits = [re.sub('\\s*\\.?\\s*\\<eos\\>\\s\\.?\\s*', '. ', txt) for txt in text]\n",
    "sent_tokenize(splits[0])"
   ]
  }
 ],
 "metadata": {
  "kernelspec": {
   "display_name": "env",
   "language": "python",
   "name": "python3"
  },
  "language_info": {
   "codemirror_mode": {
    "name": "ipython",
    "version": 3
   },
   "file_extension": ".py",
   "mimetype": "text/x-python",
   "name": "python",
   "nbconvert_exporter": "python",
   "pygments_lexer": "ipython3",
   "version": "3.11.8"
  }
 },
 "nbformat": 4,
 "nbformat_minor": 2
}
