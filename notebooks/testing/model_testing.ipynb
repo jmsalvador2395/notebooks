{
 "cells": [
  {
   "cell_type": "markdown",
   "id": "b29b7f5f-c7f8-4579-bbf3-99401625d764",
   "metadata": {},
   "source": [
    "# Test Models"
   ]
  },
  {
   "cell_type": "code",
   "execution_count": 1,
   "id": "0edece4c-ec63-40bb-8a82-0f669febe4b4",
   "metadata": {},
   "outputs": [],
   "source": [
    "import datasets\n",
    "import torch\n",
    "import numpy as np\n",
    "import time\n",
    "from transformers import AutoModel, AutoTokenizer\n",
    "from matplotlib import pyplot as plt\n",
    "\n",
    "%load_ext autoreload\n",
    "%autoreload 2\n",
    "%matplotlib inline"
   ]
  },
  {
   "cell_type": "markdown",
   "id": "39f3949b-6314-4b58-8889-c15d4670bf3f",
   "metadata": {},
   "source": [
    "# Load a Model"
   ]
  },
  {
   "cell_type": "code",
   "execution_count": 2,
   "id": "c4e77069-62e4-49d4-af48-05320d457be1",
   "metadata": {},
   "outputs": [],
   "source": [
    "model = AutoModel.from_pretrained('sentence-transformers/all-mpnet-base-v2')\n",
    "for param in model.parameters():\n",
    "    param.requires_grad=False\n",
    "\n",
    "tokenizer = AutoTokenizer.from_pretrained('sentence-transformers/all-mpnet-base-v2')"
   ]
  },
  {
   "cell_type": "markdown",
   "id": "26d9eeb7-4662-4d36-ae2f-86b4fffd8cc1",
   "metadata": {},
   "source": [
    "# Test Output"
   ]
  },
  {
   "cell_type": "code",
   "execution_count": 31,
   "id": "b67c1941-63ce-472f-b995-000721065a7b",
   "metadata": {},
   "outputs": [
    {
     "name": "stdout",
     "output_type": "stream",
     "text": [
      "{'input_ids': tensor([[   0, 7596, 2049,    2,    1],\n",
      "        [   0, 2133, 2028, 2021,    2]]), 'attention_mask': tensor([[1, 1, 1, 1, 0],\n",
      "        [1, 1, 1, 1, 1]])}\n",
      "tensor([ 0.0960,  0.1087, -0.0512, -0.0275,  0.1791, -0.0571, -0.0415,  0.0808,\n",
      "         0.0232,  0.1003])\n",
      "tensor([-0.0349, -0.0268, -0.0715, -0.0212, -0.0618,  0.0105, -0.0404, -0.0501,\n",
      "        -0.0493, -0.0160])\n",
      "tensor([[[True, True, True,  ..., True, True, True],\n",
      "         [True, True, True,  ..., True, True, True],\n",
      "         [True, True, True,  ..., True, True, True],\n",
      "         [True, True, True,  ..., True, True, True],\n",
      "         [True, True, True,  ..., True, True, True]],\n",
      "\n",
      "        [[True, True, True,  ..., True, True, True],\n",
      "         [True, True, True,  ..., True, True, True],\n",
      "         [True, True, True,  ..., True, True, True],\n",
      "         [True, True, True,  ..., True, True, True],\n",
      "         [True, True, True,  ..., True, True, True]]])\n",
      "tensor([[[ 0.0325, -0.0889, -0.0546,  ...,  0.1759, -0.1717, -0.0519],\n",
      "         [ 0.1097,  0.2798, -0.0646,  ...,  0.1945, -0.1078, -0.1130],\n",
      "         [ 0.1440,  0.3629, -0.0580,  ...,  0.1777,  0.1034, -0.0963],\n",
      "         [ 0.0979, -0.1189, -0.0275,  ...,  0.2253, -0.1538, -0.0175],\n",
      "         [ 0.0908,  0.1954, -0.0130,  ...,  0.2532, -0.0166, -0.0245]],\n",
      "\n",
      "        [[ 0.0790,  0.0558, -0.0518,  ...,  0.0503, -0.2206,  0.0273],\n",
      "         [ 0.0912,  0.1345, -0.0458,  ...,  0.1099, -0.1039, -0.1650],\n",
      "         [ 0.0346,  0.2172,  0.0317,  ...,  0.0087,  0.0508, -0.1050],\n",
      "         [ 0.1143,  0.2133,  0.1169,  ...,  0.0139,  0.0061,  0.0320],\n",
      "         [ 0.0293,  0.0788, -0.0094,  ...,  0.0562, -0.0738,  0.0657]]])\n"
     ]
    }
   ],
   "source": [
    "tokens = tokenizer(\n",
    "    ['hello there', 'how are you'],\n",
    "    truncation=True,\n",
    "    max_length=256,\n",
    "    padding=True,\n",
    "    return_tensors='pt',\n",
    ")\n",
    "print(tokens)\n",
    "\n",
    "mask = tokens['attention_mask'].to(torch.bool).cpu().numpy()\n",
    "output = model(**tokens)\n",
    "token_embeddings = output.last_hidden_state\n",
    "sentence_embeddings = output.pooler_output\n",
    "\n",
    "print(torch.mean(token_embeddings[0][mask[0]], dim=0)[:10])\n",
    "print(sentence_embeddings[0][:10])"
   ]
  }
 ],
 "metadata": {
  "kernelspec": {
   "display_name": "env",
   "language": "python",
   "name": "python3"
  },
  "language_info": {
   "codemirror_mode": {
    "name": "ipython",
    "version": 3
   },
   "file_extension": ".py",
   "mimetype": "text/x-python",
   "name": "python",
   "nbconvert_exporter": "python",
   "pygments_lexer": "ipython3",
   "version": "3.11.8"
  }
 },
 "nbformat": 4,
 "nbformat_minor": 5
}
