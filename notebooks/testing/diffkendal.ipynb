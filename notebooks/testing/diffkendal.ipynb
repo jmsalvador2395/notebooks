{
 "cells": [
  {
   "cell_type": "markdown",
   "metadata": {},
   "source": [
    "# Imports"
   ]
  },
  {
   "cell_type": "code",
   "execution_count": 34,
   "metadata": {},
   "outputs": [],
   "source": [
    "import torch\n",
    "import numpy as np\n",
    "\n",
    "from torch import Tensor\n",
    "from scipy.stats import kendalltau"
   ]
  },
  {
   "cell_type": "markdown",
   "metadata": {},
   "source": [
    "# Define Variables"
   ]
  },
  {
   "cell_type": "code",
   "execution_count": 48,
   "metadata": {},
   "outputs": [],
   "source": [
    "X = [[ 0,  0,  0,  0,  0],\n",
    "     [ 1,  1,  1,  1,  1],\n",
    "     [ 2,  2,  2,  2,  2],\n",
    "     [ 3,  3,  3,  3,  3],\n",
    "     [ 4,  4,  4,  4,  4],\n",
    "     [ 5,  5,  5,  5,  5],\n",
    "     [ 6,  6,  6,  6,  6],\n",
    "     [ 7,  7,  7,  7,  7],\n",
    "     [ 8,  8,  8,  8,  8],\n",
    "     [ 9,  9,  9,  9,  9],\n",
    "     [10, 10, 10, 10, 10],\n",
    "     [11, 11, 11, 11, 11],\n",
    "     [12, 12, 12, 12, 12],\n",
    "     [13, 13, 13, 13, 13],\n",
    "     [14, 14, 14, 14, 14],\n",
    "     [15, 15, 15, 15, 15]]\n",
    "Y = [[2, 4, 3, 1, 0],\n",
    "     [4, 0, 1, 3, 2],\n",
    "     [0, 1, 2, 4, 3],\n",
    "     [2, 0, 1, 4, 3],\n",
    "     [1, 3, 4, 2, 0],\n",
    "     [2, 4, 1, 0, 3],\n",
    "     [1, 0, 3, 4, 2],\n",
    "     [0, 2, 1, 4, 3],\n",
    "     [0, 1, 3, 4, 2],\n",
    "     [4, 0, 2, 3, 1],\n",
    "     [0, 3, 2, 1, 4],\n",
    "     [1, 4, 3, 0, 2],\n",
    "     [2, 1, 4, 0, 3],\n",
    "     [1, 2, 0, 4, 3],\n",
    "     [1, 2, 0, 4, 3],\n",
    "     [3, 2, 0, 4, 1]]\n",
    "scores = [[-0.0424,  0.1535,  0.0563,  0.0577,  0.1411],\n",
    "          [-0.0157,  0.1476,  0.0112,  0.0521,  0.1176],\n",
    "          [-0.0265,  0.1078,  0.0318,  0.0275,  0.0674],\n",
    "          [-0.0081,  0.1382,  0.0486,  0.0268,  0.1309],\n",
    "          [-0.0124,  0.1531,  0.0639,  0.0591,  0.1099],\n",
    "          [-0.0066,  0.1747,  0.0393,  0.0804,  0.1225],\n",
    "          [-0.0260,  0.1381,  0.0153,  0.0265,  0.0978],\n",
    "          [ 0.0219,  0.1581,  0.0680,  0.0395,  0.1192],\n",
    "          [-0.0446,  0.1284,  0.0518,  0.0464,  0.1383],\n",
    "          [ 0.0035,  0.1353,  0.0764,  0.0345,  0.1323],\n",
    "          [ 0.0331,  0.1531,  0.0543,  0.0525,  0.0949],\n",
    "          [ 0.0140,  0.1665,  0.0922,  0.0464,  0.1693],\n",
    "          [-0.0216,  0.1608,  0.0509,  0.0323,  0.0998],\n",
    "          [-0.0032,  0.1082,  0.0348,  0.0208,  0.1090],\n",
    "          [ 0.0100,  0.1327,  0.0487,  0.0041,  0.1105],\n",
    "          [-0.0113,  0.1485,  0.0518,  0.0830,  0.1402]]\n",
    "mask = [[True, True, True, True, True],\n",
    "        [True, True, True, True, True],\n",
    "        [True, True, True, True, True],\n",
    "        [True, True, True, True, True],\n",
    "        [True, True, True, True, True],\n",
    "        [True, True, True, True, True],\n",
    "        [True, True, True, True, True],\n",
    "        [True, True, True, True, True],\n",
    "        [True, True, True, True, True],\n",
    "        [True, True, True, True, True],\n",
    "        [True, True, True, True, True],\n",
    "        [True, True, True, True, True],\n",
    "        [True, True, True, True, True],\n",
    "        [True, True, True, True, True],\n",
    "        [True, True, True, True, True],\n",
    "        [True, True, True, True, True]]\n",
    "X, Y, scores, mask = (\n",
    "    torch.tensor(X), torch.tensor(Y),\n",
    "    torch.tensor(scores, requires_grad=True), \n",
    "    torch.tensor(mask),\n",
    ")"
   ]
  },
  {
   "cell_type": "markdown",
   "metadata": {},
   "source": [
    "# Define [DiffKendall Function](https://papers.nips.cc/paper_files/paper/2023/hash/9b01333262789ea3a65a5fab4c22feae-Abstract-Conference.html)\n",
    "\n",
    "$$\n",
    "\\tilde{\\tau}_\\alpha (\\pmb{x}, \\pmb{y}) =\n",
    "\\frac{1}{N_0} \\sum\\limits_{i=2}^{n}\\sum\\limits_{j=1}^{i-1}\n",
    "\\frac{e^{\\alpha (x_i - x_j)} - e^{-\\alpha (x_i-x_j)}}{e^{\\alpha(x_i - x_j)} + e^{-\\alpha(x_i - x_j)}}\n",
    "\\frac{e^{\\alpha(y_i-y_j)} - e^{-\\alpha(y_i-y_j)}}{e^{\\alpha(y_i-y_j)} + e^{-\\alpha(y_i-y_j)}}\n",
    "$$\n",
    "\n"
   ]
  },
  {
   "cell_type": "code",
   "execution_count": null,
   "metadata": {},
   "outputs": [
    {
     "name": "stdout",
     "output_type": "stream",
     "text": [
      "tensor(0.0048, grad_fn=<MeanBackward0>)\n",
      "DiffKendall: 0.004750354215502739\n",
      "3.94 ms ± 0 ns per loop (mean ± std. dev. of 1 run, 1 loop each)\n"
     ]
    }
   ],
   "source": [
    "%%timeit -r 1 -n 1\n",
    "def diff_kendall(\n",
    "    scores: Tensor, \n",
    "    X: Tensor, \n",
    "    Y: Tensor, \n",
    "    mask: Tensor,\n",
    "    alpha: Tensor=1.,\n",
    ") -> Tensor:\n",
    "    rows, cols = scores.shape\n",
    "    N_0 = torch.sum(mask, dim=-1)\n",
    "    sums = torch.zeros(rows)\n",
    "    for i in range(1, cols):\n",
    "        for j in range(i):\n",
    "\n",
    "            term1 = torch.exp(alpha*(scores[:, i] - scores[:, j]))\n",
    "            term2 = torch.exp(-alpha*(scores[:, i] - scores[:, j]))\n",
    "            term3 = torch.exp(alpha*(Y[:, i] - Y[:, j]))\n",
    "            term4 = torch.exp(-alpha*(Y[:, i] - Y[:, j]))\n",
    "\n",
    "            frac1 = (term1 - term2)/(term1 + term2)\n",
    "            frac2 = (term3 - term4)/(term3 + term4)\n",
    "\n",
    "            sums += (frac1*frac2)*(mask[:, i]*mask[:, j])\n",
    "    \n",
    "    return torch.mean((1/N_0)*sums)\n",
    "\n",
    "tau = diff_kendall(scores, X, Y, mask)\n",
    "print(f'DiffKendall: {tau}')"
   ]
  },
  {
   "cell_type": "markdown",
   "metadata": {},
   "source": [
    "# Check Actual $\\tau$ Value"
   ]
  },
  {
   "cell_type": "code",
   "execution_count": 40,
   "metadata": {},
   "outputs": [
    {
     "name": "stdout",
     "output_type": "stream",
     "text": [
      "-0.012499999999999997\n"
     ]
    }
   ],
   "source": [
    "\n",
    "print(np.mean([\n",
    "    kendalltau(x[mask], y[mask]).statistic \n",
    "    for x, y, mask in \n",
    "    zip(scores.detach().cpu().numpy(), Y.numpy(), mask.numpy())\n",
    "]))"
   ]
  }
 ],
 "metadata": {
  "kernelspec": {
   "display_name": "env",
   "language": "python",
   "name": "python3"
  },
  "language_info": {
   "codemirror_mode": {
    "name": "ipython",
    "version": 3
   },
   "file_extension": ".py",
   "mimetype": "text/x-python",
   "name": "python",
   "nbconvert_exporter": "python",
   "pygments_lexer": "ipython3",
   "version": "3.11.8"
  }
 },
 "nbformat": 4,
 "nbformat_minor": 2
}
