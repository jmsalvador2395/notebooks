{
 "cells": [
  {
   "cell_type": "markdown",
   "id": "b29b7f5f-c7f8-4579-bbf3-99401625d764",
   "metadata": {},
   "source": [
    "# Test Models"
   ]
  },
  {
   "cell_type": "code",
   "execution_count": 1,
   "id": "0edece4c-ec63-40bb-8a82-0f669febe4b4",
   "metadata": {},
   "outputs": [],
   "source": [
    "import datasets\n",
    "import torch\n",
    "import numpy as np\n",
    "import time\n",
    "from transformers import AutoModel, AutoTokenizer\n",
    "from matplotlib import pyplot as plt\n",
    "from sentence_transformers  import SentenceTransformer\n",
    "\n",
    "%load_ext autoreload\n",
    "%autoreload 2\n",
    "%matplotlib inline"
   ]
  },
  {
   "cell_type": "markdown",
   "id": "39f3949b-6314-4b58-8889-c15d4670bf3f",
   "metadata": {},
   "source": [
    "# Load a Model"
   ]
  },
  {
   "cell_type": "code",
   "execution_count": 8,
   "id": "c4e77069-62e4-49d4-af48-05320d457be1",
   "metadata": {},
   "outputs": [
    {
     "data": {
      "application/vnd.jupyter.widget-view+json": {
       "model_id": "1214046ca7394713a76d527796e5ef6a",
       "version_major": 2,
       "version_minor": 0
      },
      "text/plain": [
       "modules.json:   0%|          | 0.00/229 [00:00<?, ?B/s]"
      ]
     },
     "metadata": {},
     "output_type": "display_data"
    },
    {
     "data": {
      "application/vnd.jupyter.widget-view+json": {
       "model_id": "ae06c9755b704400b087b7371c10b34a",
       "version_major": 2,
       "version_minor": 0
      },
      "text/plain": [
       "config_sentence_transformers.json:   0%|          | 0.00/266 [00:00<?, ?B/s]"
      ]
     },
     "metadata": {},
     "output_type": "display_data"
    },
    {
     "data": {
      "application/vnd.jupyter.widget-view+json": {
       "model_id": "0c1c6dca58c54c07a077249062872027",
       "version_major": 2,
       "version_minor": 0
      },
      "text/plain": [
       "README.md:   0%|          | 0.00/114k [00:00<?, ?B/s]"
      ]
     },
     "metadata": {},
     "output_type": "display_data"
    },
    {
     "data": {
      "application/vnd.jupyter.widget-view+json": {
       "model_id": "68b55eefa9d84e00900ca493fa639819",
       "version_major": 2,
       "version_minor": 0
      },
      "text/plain": [
       "sentence_bert_config.json:   0%|          | 0.00/53.0 [00:00<?, ?B/s]"
      ]
     },
     "metadata": {},
     "output_type": "display_data"
    },
    {
     "data": {
      "application/vnd.jupyter.widget-view+json": {
       "model_id": "420c51116bd94cfdb5c61c102447b4ee",
       "version_major": 2,
       "version_minor": 0
      },
      "text/plain": [
       "config.json:   0%|          | 0.00/677 [00:00<?, ?B/s]"
      ]
     },
     "metadata": {},
     "output_type": "display_data"
    },
    {
     "data": {
      "application/vnd.jupyter.widget-view+json": {
       "model_id": "0af3682d04b843458c3069693bb427ef",
       "version_major": 2,
       "version_minor": 0
      },
      "text/plain": [
       "model.safetensors:   0%|          | 0.00/670M [00:00<?, ?B/s]"
      ]
     },
     "metadata": {},
     "output_type": "display_data"
    },
    {
     "data": {
      "application/vnd.jupyter.widget-view+json": {
       "model_id": "106d49e0364a4feeba45a54594c6e182",
       "version_major": 2,
       "version_minor": 0
      },
      "text/plain": [
       "1_Pooling/config.json:   0%|          | 0.00/297 [00:00<?, ?B/s]"
      ]
     },
     "metadata": {},
     "output_type": "display_data"
    }
   ],
   "source": [
    "model = SentenceTransformer(\n",
    "    'mixedbread-ai/mxbai-embed-large-v1',\n",
    "    trust_remote_code=True,\n",
    "    device='cuda',\n",
    ")\n"
   ]
  },
  {
   "cell_type": "markdown",
   "id": "26d9eeb7-4662-4d36-ae2f-86b4fffd8cc1",
   "metadata": {},
   "source": [
    "# Encode some sentences"
   ]
  },
  {
   "cell_type": "code",
   "execution_count": 9,
   "id": "b67c1941-63ce-472f-b995-000721065a7b",
   "metadata": {},
   "outputs": [
    {
     "name": "stdout",
     "output_type": "stream",
     "text": [
      "[[ 0.14539835 -0.20425549 -0.38947996 ... -0.33586657  0.00119912\n",
      "  -0.19335708]\n",
      " [ 0.03293557  0.00355725 -0.19963196 ... -0.59187657 -0.44539982\n",
      "  -0.18770133]]\n"
     ]
    }
   ],
   "source": [
    "queries = [\n",
    "    'this is sentence 1',\n",
    "    'this is sentence 2',\n",
    "]\n",
    "print(model.encode(queries))"
   ]
  }
 ],
 "metadata": {
  "kernelspec": {
   "display_name": "env",
   "language": "python",
   "name": "python3"
  },
  "language_info": {
   "codemirror_mode": {
    "name": "ipython",
    "version": 3
   },
   "file_extension": ".py",
   "mimetype": "text/x-python",
   "name": "python",
   "nbconvert_exporter": "python",
   "pygments_lexer": "ipython3",
   "version": "3.11.8"
  }
 },
 "nbformat": 4,
 "nbformat_minor": 5
}
