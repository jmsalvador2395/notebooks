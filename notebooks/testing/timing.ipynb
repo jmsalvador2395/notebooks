{
 "cells": [
  {
   "cell_type": "markdown",
   "id": "ab2e025b-b79a-41c4-aae7-426a34ad0a18",
   "metadata": {},
   "source": [
    "# Timing Stuff"
   ]
  },
  {
   "cell_type": "markdown",
   "id": "0ade3dd8-43ef-46d8-b8cb-80fc44bde590",
   "metadata": {},
   "source": [
    "# Imports"
   ]
  },
  {
   "cell_type": "code",
   "execution_count": 6,
   "id": "1ed8b19e-8acb-4321-a694-dc352e7c8041",
   "metadata": {},
   "outputs": [
    {
     "name": "stdout",
     "output_type": "stream",
     "text": [
      "The autoreload extension is already loaded. To reload it, use:\n",
      "  %reload_ext autoreload\n"
     ]
    }
   ],
   "source": [
    "import datasets\n",
    "import torch\n",
    "import numpy as np\n",
    "import time\n",
    "from matplotlib import pyplot as plt\n",
    "\n",
    "%load_ext autoreload\n",
    "%autoreload 2\n",
    "%matplotlib inline"
   ]
  },
  {
   "cell_type": "markdown",
   "id": "6f4c1961-8745-4156-a45a-d01d8723ac53",
   "metadata": {},
   "source": [
    "# Time a for loop and equivalent list comprehension"
   ]
  },
  {
   "cell_type": "code",
   "execution_count": null,
   "id": "aa23d970-279e-4d9d-a346-002b81edbe2c",
   "metadata": {},
   "outputs": [
    {
     "name": "stdout",
     "output_type": "stream",
     "text": [
      "for loop time: 51.91\n"
     ]
    }
   ],
   "source": [
    "limit = 1_000_000_000\n",
    "\n",
    "# time a for loop\n",
    "start = time.time()\n",
    "_ = []\n",
    "for i in range(limit):\n",
    "    _.append(i)\n",
    "\n",
    "end = time.time()\n",
    "\n",
    "loop_time = end-start\n",
    "print(f'for loop time: {loop_time:.2f}')\n",
    "\n",
    "# time a list comprehension\n",
    "start = time.time()\n",
    "_ = [i for i in range(limit)]\n",
    "end = time.time()\n",
    "\n",
    "lc_time = end-start\n",
    "print(f'list comprehension time: {lc_time:.2f}')\n",
    "\n",
    "# print ratio\n",
    "print(f'(loop time)/(list comp time): {loop_time/lc_time:.2f}')"
   ]
  }
 ],
 "metadata": {
  "kernelspec": {
   "display_name": "Python 3 (ipykernel)",
   "language": "python",
   "name": "python3"
  },
  "language_info": {
   "codemirror_mode": {
    "name": "ipython",
    "version": 3
   },
   "file_extension": ".py",
   "mimetype": "text/x-python",
   "name": "python",
   "nbconvert_exporter": "python",
   "pygments_lexer": "ipython3",
   "version": "3.11.3"
  }
 },
 "nbformat": 4,
 "nbformat_minor": 5
}
