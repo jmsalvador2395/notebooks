{
 "cells": [
  {
   "cell_type": "code",
   "execution_count": 40,
   "id": "9e49de2a-514d-413d-bc43-fd55b78d0f81",
   "metadata": {},
   "outputs": [
    {
     "name": "stdout",
     "output_type": "stream",
     "text": [
      "[\u001b[35mNOTE\u001b[0m] changed directory to '/data/john/projects/mltoolkit'\n",
      "The autoreload extension is already loaded. To reload it, use:\n",
      "  %reload_ext autoreload\n"
     ]
    }
   ],
   "source": [
    "import torch\n",
    "import numpy as np\n",
    "import datasets\n",
    "import os\n",
    "import umap\n",
    "import evaluate\n",
    "import accelerate\n",
    "from pathlib import Path\n",
    "from itertools import product\n",
    "from IPython.core.debugger import set_trace\n",
    "from datasets import Dataset, DatasetDict\n",
    "from torch import nn\n",
    "from torch.nn import functional as F\n",
    "from sentence_transformers import SentenceTransformer\n",
    "from nltk import sent_tokenize\n",
    "from IPython.core.debugger import Pdb\n",
    "from matplotlib import pyplot as plt\n",
    "from transformers import AutoModel, AutoTokenizer\n",
    "from pprint import pprint\n",
    "from scipy.stats import spearmanr\n",
    "\n",
    "# mltk stuff\n",
    "import mltoolkit as mltk\n",
    "from mltoolkit.utils import files, display\n",
    "os.chdir(files.project_root())\n",
    "display.note(f'changed directory to \\'{os.getcwd()}\\'')\n",
    "\n",
    "datasets.disable_caching()\n",
    "\n",
    "# Set this to whatever you want\n",
    "seed = 10\n",
    "\n",
    "torch.manual_seed(seed)\n",
    "np.random.seed(seed)\n",
    "\n",
    "%load_ext autoreload\n",
    "%autoreload 2\n",
    "%matplotlib inline"
   ]
  },
  {
   "cell_type": "markdown",
   "id": "c5c00227-4483-46fd-b70e-6fdc04722857",
   "metadata": {},
   "source": [
    "# Load TransformerAE Model and Tokenizer"
   ]
  },
  {
   "cell_type": "code",
   "execution_count": 30,
   "id": "0d8fc1fd-dc95-45e2-ab6e-655b23be760c",
   "metadata": {},
   "outputs": [
    {
     "name": "stdout",
     "output_type": "stream",
     "text": [
      "TransformerAE(\n",
      "  (encoder): MPNetModel(\n",
      "    (embeddings): MPNetEmbeddings(\n",
      "      (word_embeddings): Embedding(30527, 768, padding_idx=1)\n",
      "      (position_embeddings): Embedding(514, 768, padding_idx=1)\n",
      "      (LayerNorm): LayerNorm((768,), eps=1e-05, elementwise_affine=True)\n",
      "      (dropout): Dropout(p=0.1, inplace=False)\n",
      "    )\n",
      "    (encoder): MPNetEncoder(\n",
      "      (layer): ModuleList(\n",
      "        (0-11): 12 x MPNetLayer(\n",
      "          (attention): MPNetAttention(\n",
      "            (attn): MPNetSelfAttention(\n",
      "              (q): Linear(in_features=768, out_features=768, bias=True)\n",
      "              (k): Linear(in_features=768, out_features=768, bias=True)\n",
      "              (v): Linear(in_features=768, out_features=768, bias=True)\n",
      "              (o): Linear(in_features=768, out_features=768, bias=True)\n",
      "              (dropout): Dropout(p=0.1, inplace=False)\n",
      "            )\n",
      "            (LayerNorm): LayerNorm((768,), eps=1e-05, elementwise_affine=True)\n",
      "            (dropout): Dropout(p=0.1, inplace=False)\n",
      "          )\n",
      "          (intermediate): MPNetIntermediate(\n",
      "            (dense): Linear(in_features=768, out_features=3072, bias=True)\n",
      "            (intermediate_act_fn): GELUActivation()\n",
      "          )\n",
      "          (output): MPNetOutput(\n",
      "            (dense): Linear(in_features=3072, out_features=768, bias=True)\n",
      "            (LayerNorm): LayerNorm((768,), eps=1e-05, elementwise_affine=True)\n",
      "            (dropout): Dropout(p=0.1, inplace=False)\n",
      "          )\n",
      "        )\n",
      "      )\n",
      "      (relative_attention_bias): Embedding(32, 12)\n",
      "    )\n",
      "    (pooler): MPNetPooler(\n",
      "      (dense): Linear(in_features=768, out_features=768, bias=True)\n",
      "      (activation): Tanh()\n",
      "    )\n",
      "  )\n",
      "  (pooler): AttentionPooling(\n",
      "    (qk_proj): Linear(in_features=768, out_features=1536, bias=True)\n",
      "    (drop): Dropout(p=0.1, inplace=False)\n",
      "  )\n",
      "  (upsampler): UpLinear(\n",
      "    (model): Sequential(\n",
      "      (0): Linear(in_features=768, out_features=196608, bias=True)\n",
      "      (1): Unflatten(dim=-1, unflattened_size=(256, 768))\n",
      "      (2): ReLU()\n",
      "      (3): Linear(in_features=768, out_features=768, bias=True)\n",
      "    )\n",
      "  )\n",
      "  (dec_embed): Embedding(30527, 768)\n",
      "  (decoder): TransformerDecoder(\n",
      "    (layers): ModuleList(\n",
      "      (0-11): 12 x TransformerDecoderLayer(\n",
      "        (self_attn): MultiheadAttention(\n",
      "          (out_proj): NonDynamicallyQuantizableLinear(in_features=768, out_features=768, bias=True)\n",
      "        )\n",
      "        (multihead_attn): MultiheadAttention(\n",
      "          (out_proj): NonDynamicallyQuantizableLinear(in_features=768, out_features=768, bias=True)\n",
      "        )\n",
      "        (linear1): Linear(in_features=768, out_features=768, bias=True)\n",
      "        (dropout): Dropout(p=0.1, inplace=False)\n",
      "        (linear2): Linear(in_features=768, out_features=768, bias=True)\n",
      "        (norm1): LayerNorm((768,), eps=1e-05, elementwise_affine=True)\n",
      "        (norm2): LayerNorm((768,), eps=1e-05, elementwise_affine=True)\n",
      "        (norm3): LayerNorm((768,), eps=1e-05, elementwise_affine=True)\n",
      "        (dropout1): Dropout(p=0.1, inplace=False)\n",
      "        (dropout2): Dropout(p=0.1, inplace=False)\n",
      "        (dropout3): Dropout(p=0.1, inplace=False)\n",
      "      )\n",
      "    )\n",
      "  )\n",
      "  (classifier): Sequential(\n",
      "    (0): Linear(in_features=768, out_features=1024, bias=True)\n",
      "    (1): ReLU()\n",
      "    (2): Linear(in_features=1024, out_features=30527, bias=True)\n",
      "  )\n",
      ")\n"
     ]
    }
   ],
   "source": [
    "from mltoolkit.tasks.transformer_ae.model import TransformerAE\n",
    "from mltoolkit import cfg_reader\n",
    "\n",
    "device = 'cuda'\n",
    "\n",
    "proot = files.project_root()\n",
    "\n",
    "enc = 'sentence-transformers/all-mpnet-base-v2'\n",
    "tokenizer = AutoTokenizer.from_pretrained(enc)\n",
    "cfg, kw = cfg_reader.load(f'{proot}/cfg/transformer_ae.yaml')\n",
    "\n",
    "model = TransformerAE(\n",
    "    n_vocab=len(tokenizer),\n",
    "    **cfg.params,\n",
    ")\n",
    "\n",
    "accelerate.load_checkpoint_in_model(model, f'{proot}/results/transformer_ae/20240227-113144/ae-best_model')\n",
    "model = model.to(device)\n",
    "print(model)"
   ]
  },
  {
   "cell_type": "markdown",
   "id": "44540d8b-c284-4f6c-8ac6-ede6361a5b68",
   "metadata": {},
   "source": [
    "# Load in STS-b dataset"
   ]
  },
  {
   "cell_type": "code",
   "execution_count": 35,
   "id": "4d32dee7-8c17-4b13-bb96-10ab56c9826f",
   "metadata": {},
   "outputs": [
    {
     "name": "stdout",
     "output_type": "stream",
     "text": [
      "DatasetDict({\n",
      "    train: Dataset({\n",
      "        features: ['split', 'genre', 'dataset', 'year', 'sid', 'score', 'sentence1', 'sentence2'],\n",
      "        num_rows: 5749\n",
      "    })\n",
      "    validation: Dataset({\n",
      "        features: ['split', 'genre', 'dataset', 'year', 'sid', 'score', 'sentence1', 'sentence2'],\n",
      "        num_rows: 1500\n",
      "    })\n",
      "    test: Dataset({\n",
      "        features: ['split', 'genre', 'dataset', 'year', 'sid', 'score', 'sentence1', 'sentence2'],\n",
      "        num_rows: 1379\n",
      "    })\n",
      "})\n"
     ]
    }
   ],
   "source": [
    "ds = datasets.load_dataset('mteb/stsbenchmark-sts').with_format('numpy')\n",
    "print(ds)"
   ]
  },
  {
   "cell_type": "markdown",
   "id": "ab3be148-48fc-4671-9e84-428b8919a2ab",
   "metadata": {},
   "source": [
    "# Evaluate on Base Model"
   ]
  },
  {
   "cell_type": "code",
   "execution_count": 41,
   "id": "82113072-7cb1-4de6-912a-ae26b7c19d2b",
   "metadata": {},
   "outputs": [
    {
     "name": "stdout",
     "output_type": "stream",
     "text": [
      "SignificanceResult(statistic=0.8342190973012376, pvalue=0.0)\n"
     ]
    }
   ],
   "source": [
    "baseline = SentenceTransformer(enc)\n",
    "\n",
    "emb_a = baseline.encode(ds['test']['sentence1'], convert_to_tensor=True)\n",
    "emb_b = baseline.encode(ds['test']['sentence2'], convert_to_tensor=True)\n",
    "\n",
    "scores = F.cosine_similarity(emb_a, emb_b).cpu().numpy()\n",
    "refs = ds['test']['score']\n",
    "\n",
    "print(spearmanr(scores, refs))\n"
   ]
  },
  {
   "cell_type": "markdown",
   "id": "e8c367bc-b1dd-4759-8d2c-4936331bb4d2",
   "metadata": {},
   "source": [
    "# Evaluate on TransformerAE"
   ]
  },
  {
   "cell_type": "code",
   "execution_count": 47,
   "id": "6325f690-79c9-4c48-8a4c-7c559c24aa8b",
   "metadata": {},
   "outputs": [
    {
     "name": "stdout",
     "output_type": "stream",
     "text": [
      "SignificanceResult(statistic=0.8275457735646709, pvalue=0.0)\n"
     ]
    }
   ],
   "source": [
    "emb_a = model.encode(ds['test']['sentence1'].tolist())\n",
    "emb_b = model.encode(ds['test']['sentence2'].tolist())\n",
    "\n",
    "scores = F.cosine_similarity(emb_a, emb_b).cpu().numpy()\n",
    "refs = ds['test']['score']\n",
    "\n",
    "print(spearmanr(scores, refs))"
   ]
  }
 ],
 "metadata": {
  "kernelspec": {
   "display_name": "Python 3 (ipykernel)",
   "language": "python",
   "name": "python3"
  },
  "language_info": {
   "codemirror_mode": {
    "name": "ipython",
    "version": 3
   },
   "file_extension": ".py",
   "mimetype": "text/x-python",
   "name": "python",
   "nbconvert_exporter": "python",
   "pygments_lexer": "ipython3",
   "version": "3.10.10"
  }
 },
 "nbformat": 4,
 "nbformat_minor": 5
}
