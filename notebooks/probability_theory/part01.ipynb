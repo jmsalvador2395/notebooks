{
 "cells": [
  {
   "cell_type": "code",
   "execution_count": 6,
   "metadata": {},
   "outputs": [
    {
     "name": "stdout",
     "output_type": "stream",
     "text": [
      "The autoreload extension is already loaded. To reload it, use:\n",
      "  %reload_ext autoreload\n"
     ]
    }
   ],
   "source": [
    "import torch\n",
    "import numpy as np\n",
    "import datasets\n",
    "import os\n",
    "import math\n",
    "#import umap\n",
    "import sys\n",
    "import evaluate\n",
    "import seaborn as sns\n",
    "from pathlib import Path\n",
    "from itertools import product\n",
    "from IPython.core.debugger import set_trace\n",
    "from datasets import Dataset, DatasetDict\n",
    "from torch import nn\n",
    "from sentence_transformers import SentenceTransformer\n",
    "from sentence_transformers.models import Transformer, Pooling\n",
    "from nltk import sent_tokenize\n",
    "from IPython.core.debugger import Pdb, set_trace\n",
    "from sklearn.decomposition import PCA\n",
    "from sklearn.manifold import TSNE\n",
    "from matplotlib import pyplot as plt\n",
    "from transformers import AutoModel, AutoTokenizer\n",
    "from sentence_transformers import util\n",
    "#from tqdm.notebook import tqdm\n",
    "from tqdm import tqdm\n",
    "from numpy.lib.stride_tricks import sliding_window_view\n",
    "\n",
    "datasets.disable_caching()\n",
    "\n",
    "cache_dir = '/data/john/cache'\n",
    "\n",
    "# Set this to whatever you want\n",
    "seed = 10\n",
    "\n",
    "torch.manual_seed(seed)\n",
    "np.random.seed(seed)\n",
    "\n",
    "%load_ext autoreload\n",
    "%autoreload 2\n",
    "%matplotlib inline"
   ]
  },
  {
   "cell_type": "markdown",
   "metadata": {},
   "source": [
    ">If $r$ experiments that are to be performed are such that the first one may result  \n",
    ">in any of $n_1$ possible outcomes; and if, for each of these $n_1$ possible outcomes,  \n",
    ">there are $n_2$ possible outcomes of the second experiment; and if, for each of  \n",
    ">the possible outcomes of the first two experiments, there are $n_3$ possible  \n",
    ">outcomes of the third experiment; and if, then there is a total of $n_1 \\cdot n_2 \\cdots n_4$  \n",
    ">possible outcomes of the $r$ experiments.  \n",
    "\n",
    "**Example 2b**\n",
    "\n",
    "A college planning committee consists of 3 freshmen, 4 sophomores, 5 juniors,\n",
    "and 2 seniors. A subcommittee of 4, consisting of 1 person from each class, is to\n",
    "be chosen. How many different subcommittees are possible?\n",
    "\n",
    "**answer**: $3\\cdot 4 \\cdot 5 \\cdot 2 = 120$"
   ]
  },
  {
   "cell_type": "markdown",
   "metadata": {},
   "source": [
    "### Example 2c\n",
    "How many different 7-place license plates are possible if the first 3 places are to  \n",
    "be occupied by letters and the final 4 by numbers?  \n",
    "\n",
    "**answer**: $26^3 \\cdot 10^4 = 175,760,000$"
   ]
  },
  {
   "cell_type": "code",
   "execution_count": 5,
   "metadata": {},
   "outputs": [
    {
     "name": "stdout",
     "output_type": "stream",
     "text": [
      "175,760,000\n"
     ]
    }
   ],
   "source": [
    "print(f'{26**3*10**4:,}')"
   ]
  }
 ],
 "metadata": {
  "kernelspec": {
   "display_name": "env",
   "language": "python",
   "name": "python3"
  },
  "language_info": {
   "codemirror_mode": {
    "name": "ipython",
    "version": 3
   },
   "file_extension": ".py",
   "mimetype": "text/x-python",
   "name": "python",
   "nbconvert_exporter": "python",
   "pygments_lexer": "ipython3",
   "version": "3.11.7"
  }
 },
 "nbformat": 4,
 "nbformat_minor": 2
}
