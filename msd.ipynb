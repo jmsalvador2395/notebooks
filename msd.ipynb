{
 "cells": [
  {
   "cell_type": "markdown",
   "id": "a0e589cc",
   "metadata": {},
   "source": [
    "# Calculate MSD: $MSD \\equiv \\frac{1}{N}\\sum\\limits_{i=1}^{N} |x^{(i)}(t)-x^{(i)}(0)|^2$"
   ]
  },
  {
   "cell_type": "markdown",
   "id": "82d1ce9b",
   "metadata": {},
   "source": [
    "## initialize data"
   ]
  },
  {
   "cell_type": "code",
   "execution_count": 6,
   "id": "7483d6fb",
   "metadata": {},
   "outputs": [
    {
     "name": "stdout",
     "output_type": "stream",
     "text": [
      "[[-0.20542561 -2.04076302 -2.00395185]\n",
      " [ 0.64629111 -1.28586771  1.89857066]\n",
      " [ 0.12095833  0.41632214 -0.87963111]\n",
      " [ 0.54799319  0.86783849  0.23146293]\n",
      " [-1.18812619 -0.24477236 -0.90591114]]\n"
     ]
    }
   ],
   "source": [
    "import numpy as np\n",
    "from numpy.linalg import norm\n",
    "\n",
    "num_samples=5\n",
    "dims=3\n",
    "data=np.random.randn(num_samples, dims)\n",
    "print(data)"
   ]
  },
  {
   "cell_type": "code",
   "execution_count": 9,
   "id": "4e95aedd",
   "metadata": {},
   "outputs": [
    {
     "name": "stdout",
     "output_type": "stream",
     "text": [
      "8.670903868403931\n"
     ]
    }
   ],
   "source": [
    "def msd(data):\n",
    "    x0=data[0]\n",
    "    step1=norm(data-x0, axis=1)\n",
    "    step2=step1**2\n",
    "    return np.mean(step2)\n",
    "\n",
    "print(msd(data))"
   ]
  }
 ],
 "metadata": {
  "kernelspec": {
   "display_name": "Python 3 (ipykernel)",
   "language": "python",
   "name": "python3"
  },
  "language_info": {
   "codemirror_mode": {
    "name": "ipython",
    "version": 3
   },
   "file_extension": ".py",
   "mimetype": "text/x-python",
   "name": "python",
   "nbconvert_exporter": "python",
   "pygments_lexer": "ipython3",
   "version": "3.10.4"
  }
 },
 "nbformat": 4,
 "nbformat_minor": 5
}
